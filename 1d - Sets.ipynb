{
 "cells": [
  {
   "cell_type": "markdown",
   "id": "fb2bb5b0",
   "metadata": {},
   "source": [
    "### Data Types: Introduction to Sets\n",
    "\n",
    "- A set is a collection of variables which are unchangeable, unordered & unindexed.\n",
    "\n",
    "\n",
    "- Sets use { curly braces }.\n",
    "\n",
    "\n",
    "- Although set items are unchangeable elements can be removed and new elements added.\n",
    "\n",
    "\n",
    "- Set elements cannot be accessed by index as collection is unordered.\n",
    "\n",
    "\n",
    "- Duplicated values are not allowed in sets.\n",
    "\n",
    "\n",
    "- Variable stored in a set can be any type."
   ]
  },
  {
   "cell_type": "markdown",
   "id": "2e91a4ba",
   "metadata": {},
   "source": [
    "#### Creating a set\n",
    "Set are created by using { curly braces }."
   ]
  },
  {
   "cell_type": "code",
   "execution_count": 1,
   "id": "1900fa85",
   "metadata": {},
   "outputs": [
    {
     "name": "stdout",
     "output_type": "stream",
     "text": [
      "{'Dog', 'Cat', 'Monkey', 'Bird'} <class 'set'>\n"
     ]
    }
   ],
   "source": [
    "set_name = {'Dog', 'Cat', 'Bird', 'Monkey'}\n",
    "\n",
    "print(set_name, type(set_name))"
   ]
  },
  {
   "cell_type": "markdown",
   "id": "5485dc71",
   "metadata": {},
   "source": [
    "#### Return the length of a set\n",
    "The **len()** function can be used to return the length of a set."
   ]
  },
  {
   "cell_type": "code",
   "execution_count": 2,
   "id": "c63ed97d",
   "metadata": {},
   "outputs": [
    {
     "name": "stdout",
     "output_type": "stream",
     "text": [
      "4\n"
     ]
    }
   ],
   "source": [
    "set_name = {'Dog', 'Cat', 'Bird', 'Monkey'}\n",
    "\n",
    "length = len(set_name)\n",
    "\n",
    "print(length)"
   ]
  },
  {
   "cell_type": "markdown",
   "id": "5f72835d",
   "metadata": {},
   "source": [
    "#### Set constructor\n",
    "The set constructor can be used to convert another data type (*eg. lists*) into a set."
   ]
  },
  {
   "cell_type": "code",
   "execution_count": 3,
   "id": "d62a247c",
   "metadata": {},
   "outputs": [
    {
     "name": "stdout",
     "output_type": "stream",
     "text": [
      "{'Dog', 'Cat', 'Monkey', 'Bird'}\n"
     ]
    }
   ],
   "source": [
    "list_name = ['Dog', 'Cat', 'Bird', 'Monkey']\n",
    "\n",
    "set_name = set(list_name)\n",
    "\n",
    "print(set_name)"
   ]
  },
  {
   "cell_type": "markdown",
   "id": "d65843f3",
   "metadata": {},
   "source": [
    "#### Iterating sets\n",
    "For loops can be used to iterate though sets."
   ]
  },
  {
   "cell_type": "code",
   "execution_count": 5,
   "id": "e5b2aa85",
   "metadata": {},
   "outputs": [
    {
     "name": "stdout",
     "output_type": "stream",
     "text": [
      "Dog\n",
      "Cat\n",
      "Monkey\n",
      "Bird\n"
     ]
    }
   ],
   "source": [
    "set_name = {'Dog', 'Cat', 'Bird', 'Monkey'}\n",
    "\n",
    "for element in set_name:\n",
    "    print(element)"
   ]
  },
  {
   "cell_type": "markdown",
   "id": "ec7dafaf",
   "metadata": {},
   "source": [
    "#### Adding elements to sets\n",
    "New elements can be added to a set using the **add** method."
   ]
  },
  {
   "cell_type": "code",
   "execution_count": 6,
   "id": "b70515d9",
   "metadata": {},
   "outputs": [
    {
     "name": "stdout",
     "output_type": "stream",
     "text": [
      "{'Cat', 'Bird', 'Dog', 'Fish', 'Monkey'}\n"
     ]
    }
   ],
   "source": [
    "set_name = {'Dog', 'Cat', 'Bird', 'Monkey'}\n",
    "\n",
    "set_name.add('Fish')\n",
    "\n",
    "print(set_name)"
   ]
  },
  {
   "cell_type": "markdown",
   "id": "a89bf4d9",
   "metadata": {},
   "source": [
    "#### Adding other iterables can be added to sets\n",
    "The **update** method allows other iterable (*eg. lists*) to be added to sets."
   ]
  },
  {
   "cell_type": "code",
   "execution_count": 7,
   "id": "58322f47",
   "metadata": {},
   "outputs": [
    {
     "name": "stdout",
     "output_type": "stream",
     "text": [
      "{'Cat', 'Bird', 'Hamster', 'Dog', 'Fish', 'Monkey'}\n"
     ]
    }
   ],
   "source": [
    "set_name = {'Dog', 'Cat', 'Bird', 'Monkey'}\n",
    "\n",
    "list_name = ['Fish', 'Hamster']\n",
    "\n",
    "set_name.update(list_name)\n",
    "\n",
    "print(set_name)"
   ]
  },
  {
   "cell_type": "markdown",
   "id": "3548c093",
   "metadata": {},
   "source": [
    "#### Remove elements from sets\n",
    "The **remove** method allows for elements to be removed from set by name."
   ]
  },
  {
   "cell_type": "code",
   "execution_count": 10,
   "id": "df8edad1",
   "metadata": {},
   "outputs": [
    {
     "name": "stdout",
     "output_type": "stream",
     "text": [
      "{'Dog', 'Monkey', 'Bird'}\n"
     ]
    }
   ],
   "source": [
    "set_name = {'Dog', 'Cat', 'Bird', 'Monkey'}\n",
    "\n",
    "set_name.remove('Cat')\n",
    "\n",
    "print(set_name)"
   ]
  },
  {
   "cell_type": "markdown",
   "id": "817182dc",
   "metadata": {},
   "source": [
    "#### Clear a set\n",
    "Sets can be cleared by using the **clear** method, if called the set will be empty."
   ]
  },
  {
   "cell_type": "code",
   "execution_count": 11,
   "id": "fe7ddf3c",
   "metadata": {},
   "outputs": [
    {
     "name": "stdout",
     "output_type": "stream",
     "text": [
      "set()\n"
     ]
    }
   ],
   "source": [
    "set_name = {'Dog', 'Cat', 'Bird', 'Monkey'}\n",
    "\n",
    "set_name.clear()\n",
    "\n",
    "print(set_name)"
   ]
  },
  {
   "cell_type": "markdown",
   "id": "03f300cc",
   "metadata": {},
   "source": [
    "#### Combine two sets\n",
    "The **union** method allows for two sets to be combined."
   ]
  },
  {
   "cell_type": "code",
   "execution_count": 12,
   "id": "b94fe2a0",
   "metadata": {},
   "outputs": [
    {
     "name": "stdout",
     "output_type": "stream",
     "text": [
      "{'Dog', 'Fish', 'Cat', 'Snake', 'Bird', 'Hamster', 'Monkey'}\n"
     ]
    }
   ],
   "source": [
    "set1 = {'Dog', 'Cat', 'Bird', 'Monkey'}\n",
    "\n",
    "set2 = {'Fish', 'Hamster', 'Snake'}\n",
    "\n",
    "set3 = set1.union(set2)\n",
    "\n",
    "print(set3)"
   ]
  },
  {
   "cell_type": "markdown",
   "id": "07cd3b01",
   "metadata": {},
   "source": [
    "#### Comparing duplicates in two sets\n",
    "The method **intersection** returns a new set that contains only elements duplicated in **both** sets."
   ]
  },
  {
   "cell_type": "code",
   "execution_count": 13,
   "id": "e23152fd",
   "metadata": {},
   "outputs": [
    {
     "name": "stdout",
     "output_type": "stream",
     "text": [
      "{'Cat'}\n"
     ]
    }
   ],
   "source": [
    "set1 = {'Dog', 'Cat', 'Bird'}\n",
    "\n",
    "set2 = {'Fish', 'Cat', 'Hamster'}\n",
    "\n",
    "set3 = set1.intersection(set2)\n",
    "\n",
    "print(set3)"
   ]
  },
  {
   "cell_type": "markdown",
   "id": "86fad675",
   "metadata": {},
   "source": [
    "The similar method **intersection_update** does an *inplace* modification of the existing set."
   ]
  },
  {
   "cell_type": "markdown",
   "id": "72238836",
   "metadata": {},
   "source": [
    "The method **symmetric_difference** does the same function but keeps all except the duplicates."
   ]
  },
  {
   "cell_type": "code",
   "execution_count": 16,
   "id": "75a17768",
   "metadata": {},
   "outputs": [
    {
     "name": "stdout",
     "output_type": "stream",
     "text": [
      "{'Bird', 'Hamster', 'Dog', 'Fish'}\n"
     ]
    }
   ],
   "source": [
    "set1 = {'Dog', 'Cat', 'Bird'}\n",
    "\n",
    "set2 = {'Fish', 'Cat', 'Hamster'}\n",
    "\n",
    "set3 = set1.symmetric_difference(set2)\n",
    "\n",
    "print(set3)"
   ]
  },
  {
   "cell_type": "code",
   "execution_count": null,
   "id": "4b9dd590",
   "metadata": {},
   "outputs": [],
   "source": []
  }
 ],
 "metadata": {
  "kernelspec": {
   "display_name": "Python 3 (ipykernel)",
   "language": "python",
   "name": "python3"
  },
  "language_info": {
   "codemirror_mode": {
    "name": "ipython",
    "version": 3
   },
   "file_extension": ".py",
   "mimetype": "text/x-python",
   "name": "python",
   "nbconvert_exporter": "python",
   "pygments_lexer": "ipython3",
   "version": "3.10.6"
  }
 },
 "nbformat": 4,
 "nbformat_minor": 5
}
