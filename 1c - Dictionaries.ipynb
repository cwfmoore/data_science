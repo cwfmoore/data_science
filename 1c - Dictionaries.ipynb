{
 "cells": [
  {
   "cell_type": "markdown",
   "metadata": {},
   "source": [
    "### Data Types: Introduction to Dictionaries\n",
    "\n",
    "- Dictionaries store data in **KEY**: **VALUE** pairs.\n",
    "\n",
    "\n",
    "- As of Python 3.7 dictionaries are **ordered**.\n",
    "\n",
    "\n",
    "- Dictionaries use **{ curly braces }**\n",
    "\n",
    "\n",
    "- Dictionaries do not allow duplicate values"
   ]
  },
  {
   "cell_type": "markdown",
   "metadata": {},
   "source": [
    "#### Creating a dictionary\n",
    "\n",
    "Dictionaries are created using curly braces and Key Value pairs separated by a colon."
   ]
  },
  {
   "cell_type": "code",
   "execution_count": 1,
   "metadata": {},
   "outputs": [],
   "source": [
    "person_dict = {'name': 'John Smith', 'age': 27, 'location': 'Scotland'}"
   ]
  },
  {
   "cell_type": "markdown",
   "metadata": {},
   "source": [
    "#### Accessing a dictionary\n",
    "\n",
    "We can return a specific value from a dictionary by sumbitting the relevant key in square brackets."
   ]
  },
  {
   "cell_type": "code",
   "execution_count": 2,
   "metadata": {},
   "outputs": [
    {
     "name": "stdout",
     "output_type": "stream",
     "text": [
      "John Smith\n"
     ]
    }
   ],
   "source": [
    "name = person_dict['name']\n",
    "\n",
    "print(name)"
   ]
  },
  {
   "cell_type": "markdown",
   "metadata": {},
   "source": [
    "#### Finding the length of a dictionary\n",
    "\n",
    "We can return the length of a dictionary by using **len()**"
   ]
  },
  {
   "cell_type": "code",
   "execution_count": 3,
   "metadata": {},
   "outputs": [
    {
     "name": "stdout",
     "output_type": "stream",
     "text": [
      "3\n"
     ]
    }
   ],
   "source": [
    "length = len(person_dict)\n",
    "\n",
    "print(length)"
   ]
  },
  {
   "cell_type": "markdown",
   "metadata": {},
   "source": [
    "#### Return all the keys and / or values in a dictionary"
   ]
  },
  {
   "cell_type": "code",
   "execution_count": 4,
   "metadata": {},
   "outputs": [
    {
     "data": {
      "text/plain": [
       "dict_keys(['name', 'age', 'location'])"
      ]
     },
     "execution_count": 4,
     "metadata": {},
     "output_type": "execute_result"
    }
   ],
   "source": [
    "person_dict.keys()"
   ]
  },
  {
   "cell_type": "code",
   "execution_count": 5,
   "metadata": {},
   "outputs": [
    {
     "data": {
      "text/plain": [
       "dict_values(['John Smith', 27, 'Scotland'])"
      ]
     },
     "execution_count": 5,
     "metadata": {},
     "output_type": "execute_result"
    }
   ],
   "source": [
    "person_dict.values()"
   ]
  },
  {
   "cell_type": "markdown",
   "metadata": {},
   "source": [
    "#### Adding key value pairs to an existing dictionary\n",
    "Data can be added and existing data updated in dictionaries."
   ]
  },
  {
   "cell_type": "code",
   "execution_count": 6,
   "metadata": {},
   "outputs": [
    {
     "name": "stdout",
     "output_type": "stream",
     "text": [
      "{'name': 'Janet Smith', 'age': 27, 'location': 'Scotland', 'city': 'Glasgow'}\n"
     ]
    }
   ],
   "source": [
    "person_dict = {'name': 'John Smith', 'age': 27, 'location': 'Scotland'}\n",
    "\n",
    "# Adding new data\n",
    "person_dict['city'] = 'Glasgow'\n",
    "\n",
    "# Updating existing data\n",
    "person_dict['name'] = 'Janet Smith'\n",
    "\n",
    "print(person_dict)"
   ]
  },
  {
   "cell_type": "markdown",
   "metadata": {},
   "source": [
    "#### Dictionaries can hold other data types\n",
    "Dictionaries can sort lists and other dictionaries.\n",
    "\n",
    "<span style=\"color:red\">NOTE: </span> This is the basis for JSON file types.  Which are important in data storage & analysis."
   ]
  },
  {
   "cell_type": "code",
   "execution_count": 7,
   "metadata": {},
   "outputs": [
    {
     "name": "stdout",
     "output_type": "stream",
     "text": [
      "{'name': 'John Smith', 'age': 27, 'location': 'Scotland', 'children': ['Jane', 'Philip', 'Stewart'], 'address': {'house_number': '5', 'street': 'High Street', 'post_code': 'G1 5AA'}}\n"
     ]
    }
   ],
   "source": [
    "person_dict = {'name': 'John Smith', 'age': 27, 'location': 'Scotland'}\n",
    "\n",
    "person_dict['children'] = ['Jane', 'Philip', 'Stewart']\n",
    "\n",
    "person_dict['address'] = {'house_number': '5', 'street': 'High Street', 'post_code': 'G1 5AA'}\n",
    "\n",
    "print(person_dict)"
   ]
  },
  {
   "cell_type": "code",
   "execution_count": 8,
   "metadata": {},
   "outputs": [
    {
     "name": "stdout",
     "output_type": "stream",
     "text": [
      "Jane\n"
     ]
    }
   ],
   "source": [
    "# These new entries can be accessed like so:\n",
    "first_child = person_dict['children'][0]\n",
    "print(first_child)"
   ]
  },
  {
   "cell_type": "code",
   "execution_count": 9,
   "metadata": {},
   "outputs": [
    {
     "name": "stdout",
     "output_type": "stream",
     "text": [
      "G1 5AA\n"
     ]
    }
   ],
   "source": [
    "post_code = person_dict['address']['post_code']\n",
    "\n",
    "print(post_code)"
   ]
  },
  {
   "cell_type": "markdown",
   "metadata": {},
   "source": [
    "#### Iterating dictionaries\n",
    "Python can iteratate over a dictionaries keys, values or both."
   ]
  },
  {
   "cell_type": "code",
   "execution_count": 10,
   "metadata": {},
   "outputs": [
    {
     "name": "stdout",
     "output_type": "stream",
     "text": [
      "name\n",
      "age\n",
      "location\n",
      "children\n",
      "address\n"
     ]
    }
   ],
   "source": [
    "# Iterating keys\n",
    "\n",
    "for key in person_dict.keys():\n",
    "    print(key)"
   ]
  },
  {
   "cell_type": "code",
   "execution_count": 11,
   "metadata": {},
   "outputs": [
    {
     "name": "stdout",
     "output_type": "stream",
     "text": [
      "John Smith\n",
      "27\n",
      "Scotland\n",
      "['Jane', 'Philip', 'Stewart']\n",
      "{'house_number': '5', 'street': 'High Street', 'post_code': 'G1 5AA'}\n"
     ]
    }
   ],
   "source": [
    "# Iterating values\n",
    "\n",
    "for value in person_dict.values():\n",
    "    print(value)"
   ]
  },
  {
   "cell_type": "code",
   "execution_count": 12,
   "metadata": {},
   "outputs": [
    {
     "name": "stdout",
     "output_type": "stream",
     "text": [
      "name John Smith\n",
      "age 27\n",
      "location Scotland\n",
      "children ['Jane', 'Philip', 'Stewart']\n",
      "address {'house_number': '5', 'street': 'High Street', 'post_code': 'G1 5AA'}\n"
     ]
    }
   ],
   "source": [
    "# Iterating both keys and values (items)\n",
    "\n",
    "for key, value in person_dict.items():\n",
    "    print(key, value)"
   ]
  },
  {
   "cell_type": "markdown",
   "metadata": {},
   "source": [
    "#### Using line comprehensions to define and modify dictionaries"
   ]
  },
  {
   "cell_type": "code",
   "execution_count": 13,
   "metadata": {},
   "outputs": [
    {
     "name": "stdout",
     "output_type": "stream",
     "text": [
      "{'one': 2, 'two': 4, 'three': 6, 'four': 8, 'five': 10}\n"
     ]
    }
   ],
   "source": [
    "number_dict = {'one': 1, 'two': 2, 'three': 3, 'four': 4, 'five': 5}\n",
    "\n",
    "# Double all the integer values\n",
    "number_dict = {k: v * 2 for k, v in number_dict.items()}\n",
    "\n",
    "print(number_dict)"
   ]
  },
  {
   "cell_type": "markdown",
   "metadata": {},
   "source": [
    "#### Sorting dictionaries\n",
    "The order of keys in a dictionary can be ordered alphabetically using **sorted()**"
   ]
  },
  {
   "cell_type": "code",
   "execution_count": 14,
   "metadata": {},
   "outputs": [
    {
     "name": "stdout",
     "output_type": "stream",
     "text": [
      "{'age': 27, 'location': 'Scotland', 'name': 'John Smith'}\n"
     ]
    }
   ],
   "source": [
    "person_dict = {'name': 'John Smith', 'age': 27, 'location': 'Scotland'}\n",
    "\n",
    "person_dict = {k: person_dict[k] for k in sorted(person_dict)}\n",
    "\n",
    "print(person_dict)"
   ]
  },
  {
   "cell_type": "code",
   "execution_count": 15,
   "metadata": {},
   "outputs": [
    {
     "name": "stdout",
     "output_type": "stream",
     "text": [
      "[('age', 27), ('location', 'Scotland'), ('name', 'John Smith')]\n"
     ]
    }
   ],
   "source": [
    "# After sorted\n",
    "person_dict = sorted(person_dict.items())\n",
    "print(person_dict)"
   ]
  },
  {
   "cell_type": "markdown",
   "metadata": {},
   "source": [
    "#### Creating a dictionary from two lists\n",
    "\n",
    "Using the **zip()** and **dict()** methods dictionaries can be created from lists."
   ]
  },
  {
   "cell_type": "code",
   "execution_count": 16,
   "metadata": {},
   "outputs": [
    {
     "name": "stdout",
     "output_type": "stream",
     "text": [
      "{'Dog': 4, 'Monkey': 2, 'Ant': 6, 'Spider': 8}\n"
     ]
    }
   ],
   "source": [
    "animals = ['Dog', 'Monkey', 'Ant', 'Spider']\n",
    "\n",
    "number_legs = [4, 2, 6, 8]\n",
    "\n",
    "animal_legs_dict = dict(zip(animals, number_legs))\n",
    "\n",
    "print(animal_legs_dict)"
   ]
  }
 ],
 "metadata": {
  "kernelspec": {
   "display_name": "Python 3 (ipykernel)",
   "language": "python",
   "name": "python3"
  },
  "language_info": {
   "codemirror_mode": {
    "name": "ipython",
    "version": 3
   },
   "file_extension": ".py",
   "mimetype": "text/x-python",
   "name": "python",
   "nbconvert_exporter": "python",
   "pygments_lexer": "ipython3",
   "version": "3.10.6"
  }
 },
 "nbformat": 4,
 "nbformat_minor": 4
}
