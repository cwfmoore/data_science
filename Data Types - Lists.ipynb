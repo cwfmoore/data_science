{
 "cells": [
  {
   "cell_type": "markdown",
   "id": "66f1c763",
   "metadata": {},
   "source": [
    "### Data Types: Introduction to Lists\n",
    "\n",
    "- Lists can store multiple elements of any type.\n",
    "\n",
    "\n",
    "- Lists are **ordered**, **changeable** and allow duplicate values.\n",
    "\n",
    "\n",
    "- Lists use **[ square brackets ]**\n",
    "\n",
    "\n",
    "- Units of data stored in a list are referred to as **elements**"
   ]
  },
  {
   "cell_type": "markdown",
   "id": "ae67ca41",
   "metadata": {},
   "source": [
    "#### Creating a list\n",
    "Use square brackets and comma separate values."
   ]
  },
  {
   "cell_type": "code",
   "execution_count": 1,
   "id": "750417dc",
   "metadata": {},
   "outputs": [
    {
     "name": "stdout",
     "output_type": "stream",
     "text": [
      "['Dog', 'Cat', 'Bird', 'Monkey']\n"
     ]
    }
   ],
   "source": [
    "list_name = ['Dog', 'Cat', 'Bird', 'Monkey']\n",
    "\n",
    "print(list_name)"
   ]
  },
  {
   "cell_type": "markdown",
   "id": "21f784cb",
   "metadata": {},
   "source": [
    "#### Accessing elements within a list\n",
    "\n",
    "Elements within a list can be accessed using an integers within square brackets.\n",
    "\n",
    "<span style=\"color:red\">NOTE: </span> Indexes start a **0** for the first element."
   ]
  },
  {
   "cell_type": "code",
   "execution_count": 2,
   "id": "532feaa7",
   "metadata": {},
   "outputs": [
    {
     "name": "stdout",
     "output_type": "stream",
     "text": [
      "Bird\n"
     ]
    }
   ],
   "source": [
    "list_name = ['Dog', 'Cat', 'Bird', 'Monkey']\n",
    "\n",
    "element = list_name[2]\n",
    "\n",
    "print(element)"
   ]
  },
  {
   "cell_type": "markdown",
   "id": "53788765",
   "metadata": {},
   "source": [
    "Slices (*range of elements*) of a list can be accessed using a colon within the square brackets."
   ]
  },
  {
   "cell_type": "code",
   "execution_count": 3,
   "id": "a9e25e7e",
   "metadata": {},
   "outputs": [
    {
     "name": "stdout",
     "output_type": "stream",
     "text": [
      "['Cat', 'Bird']\n"
     ]
    }
   ],
   "source": [
    "list_name = ['Dog', 'Cat', 'Bird', 'Monkey']\n",
    "\n",
    "# Returns the 2nd up to and including the 3rd elements\n",
    "list_slice = list_name[1:3]\n",
    "\n",
    "print(list_slice)"
   ]
  },
  {
   "cell_type": "markdown",
   "id": "2b70b497",
   "metadata": {},
   "source": [
    "Negative indexes can be submitted to access elements from the end of the list."
   ]
  },
  {
   "cell_type": "code",
   "execution_count": 4,
   "id": "aa599abd",
   "metadata": {},
   "outputs": [
    {
     "name": "stdout",
     "output_type": "stream",
     "text": [
      "Monkey\n"
     ]
    }
   ],
   "source": [
    "list_name = ['Dog', 'Cat', 'Bird', 'Monkey']\n",
    "\n",
    "last_element = list_name[-1]\n",
    "\n",
    "print(last_element)"
   ]
  },
  {
   "cell_type": "markdown",
   "id": "f49eb4c2",
   "metadata": {},
   "source": [
    "#### The length of a list can be found using **len()**"
   ]
  },
  {
   "cell_type": "code",
   "execution_count": 5,
   "id": "fb55e022",
   "metadata": {},
   "outputs": [
    {
     "name": "stdout",
     "output_type": "stream",
     "text": [
      "4\n"
     ]
    }
   ],
   "source": [
    "list_name = ['Dog', 'Cat', 'Bird', 'Monkey']\n",
    "\n",
    "length = len(list_name)\n",
    "\n",
    "print(length)"
   ]
  },
  {
   "cell_type": "markdown",
   "id": "e5d4e471",
   "metadata": {},
   "source": [
    "#### Add elements to the end of a list\n",
    "The **append** function allows a new element to be added to the end of a list."
   ]
  },
  {
   "cell_type": "code",
   "execution_count": 6,
   "id": "e094c04d",
   "metadata": {},
   "outputs": [
    {
     "name": "stdout",
     "output_type": "stream",
     "text": [
      "['Dog', 'Cat', 'Bird', 'Monkey', 'Fish']\n"
     ]
    }
   ],
   "source": [
    "list_name = ['Dog', 'Cat', 'Bird', 'Monkey']\n",
    "\n",
    "list_name.append('Fish')\n",
    "\n",
    "print(list_name)"
   ]
  },
  {
   "cell_type": "markdown",
   "id": "dbaa4e75",
   "metadata": {},
   "source": [
    "The **extend** function appends a list to the end of an existing list"
   ]
  },
  {
   "cell_type": "code",
   "execution_count": 7,
   "id": "c5f5daf7",
   "metadata": {},
   "outputs": [
    {
     "name": "stdout",
     "output_type": "stream",
     "text": [
      "['Dog', 'Cat', 'Bird', 'Monkey', 'Fish', 'Hamster', 'Snake']\n"
     ]
    }
   ],
   "source": [
    "list_name = ['Dog', 'Cat', 'Bird', 'Monkey']\n",
    "\n",
    "new_list = ['Fish', 'Hamster', 'Snake']\n",
    "\n",
    "list_name.extend(new_list)\n",
    "\n",
    "print(list_name)"
   ]
  },
  {
   "cell_type": "markdown",
   "id": "d10cd44c",
   "metadata": {},
   "source": [
    "The **extend** function also works with other data types."
   ]
  },
  {
   "cell_type": "code",
   "execution_count": 8,
   "id": "3cfe6e82",
   "metadata": {},
   "outputs": [
    {
     "name": "stdout",
     "output_type": "stream",
     "text": [
      "['Dog', 'Cat', 'Bird', 'Monkey', 'Fish', 'Hamster', 'Snake']\n"
     ]
    }
   ],
   "source": [
    "list_name = ['Dog', 'Cat', 'Bird', 'Monkey']\n",
    "\n",
    "new_tuple = ('Fish', 'Hamster', 'Snake')\n",
    "\n",
    "list_name.extend(new_tuple)\n",
    "\n",
    "print(list_name)"
   ]
  },
  {
   "cell_type": "markdown",
   "id": "b830c106",
   "metadata": {},
   "source": [
    "#### Remove items from a list\n",
    "The remove function allows the removal of an element from the list by name."
   ]
  },
  {
   "cell_type": "code",
   "execution_count": 9,
   "id": "50d8fa14",
   "metadata": {},
   "outputs": [
    {
     "name": "stdout",
     "output_type": "stream",
     "text": [
      "['Dog', 'Bird', 'Monkey']\n"
     ]
    }
   ],
   "source": [
    "list_name = ['Dog', 'Cat', 'Bird', 'Monkey']\n",
    "\n",
    "list_name.remove('Cat')\n",
    "\n",
    "print(list_name)"
   ]
  },
  {
   "cell_type": "markdown",
   "id": "7ba9fb89",
   "metadata": {},
   "source": [
    "#### Remove an element and return the element as a new variable\n",
    "The **pop()** function has two utilities, it removes an element from a list and can store that element as a new variable."
   ]
  },
  {
   "cell_type": "code",
   "execution_count": 10,
   "id": "d1e72e06",
   "metadata": {},
   "outputs": [
    {
     "name": "stdout",
     "output_type": "stream",
     "text": [
      "['Dog', 'Cat', 'Bird']\n",
      "Monkey\n"
     ]
    }
   ],
   "source": [
    "list_name = ['Dog', 'Cat', 'Bird', 'Monkey']\n",
    "\n",
    "new_variable = list_name.pop(3)\n",
    "\n",
    "print(list_name)\n",
    "\n",
    "print(new_variable)"
   ]
  },
  {
   "cell_type": "markdown",
   "id": "eab6b52e",
   "metadata": {},
   "source": [
    "#### Delete an element from a list\n",
    "The **del** keyword can be used to delete an element from a list"
   ]
  },
  {
   "cell_type": "code",
   "execution_count": 11,
   "id": "0d74bf63",
   "metadata": {},
   "outputs": [
    {
     "name": "stdout",
     "output_type": "stream",
     "text": [
      "['Dog', 'Cat', 'Monkey']\n"
     ]
    }
   ],
   "source": [
    "list_name = ['Dog', 'Cat', 'Bird', 'Monkey']\n",
    "\n",
    "del list_name[2]\n",
    "\n",
    "print(list_name)"
   ]
  },
  {
   "cell_type": "markdown",
   "id": "cb3f93a1",
   "metadata": {},
   "source": [
    "This can also be used to delete the entire list.\n",
    "\n",
    "<span style=\"color:red\">NOTE: </span>Trying to print the list after deletion causes an error."
   ]
  },
  {
   "cell_type": "code",
   "execution_count": 12,
   "id": "63249409",
   "metadata": {},
   "outputs": [
    {
     "ename": "NameError",
     "evalue": "name 'list_name' is not defined",
     "output_type": "error",
     "traceback": [
      "\u001b[1;31m---------------------------------------------------------------------------\u001b[0m",
      "\u001b[1;31mNameError\u001b[0m                                 Traceback (most recent call last)",
      "Input \u001b[1;32mIn [12]\u001b[0m, in \u001b[0;36m<cell line: 5>\u001b[1;34m()\u001b[0m\n\u001b[0;32m      1\u001b[0m list_name \u001b[38;5;241m=\u001b[39m [\u001b[38;5;124m'\u001b[39m\u001b[38;5;124mDog\u001b[39m\u001b[38;5;124m'\u001b[39m, \u001b[38;5;124m'\u001b[39m\u001b[38;5;124mCat\u001b[39m\u001b[38;5;124m'\u001b[39m, \u001b[38;5;124m'\u001b[39m\u001b[38;5;124mBird\u001b[39m\u001b[38;5;124m'\u001b[39m, \u001b[38;5;124m'\u001b[39m\u001b[38;5;124mMonkey\u001b[39m\u001b[38;5;124m'\u001b[39m]\n\u001b[0;32m      3\u001b[0m \u001b[38;5;28;01mdel\u001b[39;00m list_name\n\u001b[1;32m----> 5\u001b[0m \u001b[38;5;28mprint\u001b[39m(\u001b[43mlist_name\u001b[49m)\n",
      "\u001b[1;31mNameError\u001b[0m: name 'list_name' is not defined"
     ]
    }
   ],
   "source": [
    "list_name = ['Dog', 'Cat', 'Bird', 'Monkey']\n",
    "\n",
    "del list_name\n",
    "\n",
    "print(list_name)"
   ]
  },
  {
   "cell_type": "markdown",
   "id": "8d6718b6",
   "metadata": {},
   "source": [
    "#### Clearing a list of all elements\n",
    "Clearing the list is possible using the **clear** function, this returns and empty list."
   ]
  },
  {
   "cell_type": "code",
   "execution_count": null,
   "id": "1aeef716",
   "metadata": {},
   "outputs": [],
   "source": [
    "list_name = ['Dog', 'Cat', 'Bird', 'Monkey']\n",
    "\n",
    "list_name.clear()\n",
    "\n",
    "print(list_name)"
   ]
  },
  {
   "cell_type": "markdown",
   "id": "4968bca6",
   "metadata": {},
   "source": [
    "#### Concatenate lists together\n",
    "Lists can be concatenated (*to connect or link in a series or chain*) by using a **+** symbol."
   ]
  },
  {
   "cell_type": "code",
   "execution_count": null,
   "id": "d52453a4",
   "metadata": {},
   "outputs": [],
   "source": [
    "list_name = ['Dog', 'Cat', 'Bird', 'Monkey']\n",
    "\n",
    "new_list = ['Fish', 'Hamster', 'Snake']\n",
    "\n",
    "print(list_name + new_list)"
   ]
  },
  {
   "cell_type": "markdown",
   "id": "783ac3c7",
   "metadata": {},
   "source": [
    "#### The list() constructor\n",
    "\n",
    "Other data types can be converted into a list using the list constructor."
   ]
  },
  {
   "cell_type": "code",
   "execution_count": null,
   "id": "b7c44956",
   "metadata": {},
   "outputs": [],
   "source": [
    "tuple_name = (1, 2, 3, 4, 5)\n",
    "\n",
    "tuple_name = list(tuple_name)\n",
    "\n",
    "print(tuple_name, type(tuple_name))"
   ]
  },
  {
   "cell_type": "markdown",
   "id": "db74f8e6",
   "metadata": {},
   "source": [
    "#### Check if elements is in list\n",
    "\n",
    "It is possible to check if a specified element is contained in a list."
   ]
  },
  {
   "cell_type": "code",
   "execution_count": null,
   "id": "b854b5f5",
   "metadata": {},
   "outputs": [],
   "source": [
    "list_name = ['Dog', 'Cat', 'Bird', 'Monkey']\n",
    "\n",
    "element1 = 'Bird'\n",
    "\n",
    "element2 = 'Fish'\n",
    "\n",
    "print(element1 in list_name)\n",
    "\n",
    "print(element2 in list_name)"
   ]
  },
  {
   "cell_type": "markdown",
   "id": "804e7f25",
   "metadata": {},
   "source": [
    "#### The elements in a list are changeable\n",
    "\n",
    "Updating an element in a list is possible by using the index in square brackets."
   ]
  },
  {
   "cell_type": "code",
   "execution_count": null,
   "id": "5e468e5b",
   "metadata": {},
   "outputs": [],
   "source": [
    "list_name = ['Dog', 'Cat', 'Bird', 'Monkey']\n",
    "\n",
    "list_name[2] = 'Fish'\n",
    "\n",
    "print(list_name)"
   ]
  },
  {
   "cell_type": "markdown",
   "id": "f4538726",
   "metadata": {},
   "source": [
    "More than one element can be changed this way using the slice method.\n",
    "<span style=\"color:red\">NOTE: </span> The elements (*Hamster & Donkey*) are submitted as a list.\n",
    "This can be a useful way to insert elements into specific positions or overwriting existing elements."
   ]
  },
  {
   "cell_type": "code",
   "execution_count": null,
   "id": "a1281729",
   "metadata": {},
   "outputs": [],
   "source": [
    "list_name = ['Dog', 'Cat', 'Bird', 'Monkey']\n",
    "\n",
    "list_name[2:2] = ['Hamster', 'Donkey']\n",
    "\n",
    "print(list_name)"
   ]
  },
  {
   "cell_type": "markdown",
   "id": "2b51f7ff",
   "metadata": {},
   "source": [
    "#### Inserting items into lists \n",
    "The insert method can be used to *insert* elements into a list at a specific index."
   ]
  },
  {
   "cell_type": "code",
   "execution_count": null,
   "id": "bb979358",
   "metadata": {},
   "outputs": [],
   "source": [
    "list_name = ['Dog', 'Cat', 'Bird', 'Monkey']\n",
    "\n",
    "list_name.insert(2, 'Fish')\n",
    "\n",
    "print(list_name)"
   ]
  },
  {
   "cell_type": "markdown",
   "id": "7bd977ca",
   "metadata": {},
   "source": [
    "#### Iterating lists\n",
    "For loops can be used to iterate through lists."
   ]
  },
  {
   "cell_type": "code",
   "execution_count": null,
   "id": "d84d0ae2",
   "metadata": {},
   "outputs": [],
   "source": [
    "list_name = ['Dog', 'Cat', 'Bird', 'Monkey']\n",
    "\n",
    "for element in list_name:\n",
    "    print(element)"
   ]
  },
  {
   "cell_type": "markdown",
   "id": "8f49a0fd",
   "metadata": {},
   "source": [
    "The functions **range** and **len** can be used to iterate through all elements of a list by index."
   ]
  },
  {
   "cell_type": "code",
   "execution_count": null,
   "id": "d2efaeda",
   "metadata": {},
   "outputs": [],
   "source": [
    "list_name = ['Dog', 'Cat', 'Bird', 'Monkey']\n",
    "\n",
    "for index in range(len(list_name)):\n",
    "    print(index, list_name[index])"
   ]
  },
  {
   "cell_type": "markdown",
   "id": "82407174",
   "metadata": {},
   "source": [
    "**While** loops can also be used to iterate through lists."
   ]
  },
  {
   "cell_type": "code",
   "execution_count": null,
   "id": "092c6837",
   "metadata": {},
   "outputs": [],
   "source": [
    "list_name = ['Dog', 'Cat', 'Bird', 'Monkey']\n",
    "\n",
    "index = 0\n",
    "while index < len(list_name):\n",
    "    print(index, list_name[index])\n",
    "    index += 1"
   ]
  },
  {
   "cell_type": "markdown",
   "id": "bcabd3c2",
   "metadata": {},
   "source": [
    "#### List line comprehensions are useful ways to manipulate lists in one line of code\n",
    "This line comprehension will create a new list with double the integer values in the original list."
   ]
  },
  {
   "cell_type": "code",
   "execution_count": null,
   "id": "931d2c52",
   "metadata": {},
   "outputs": [],
   "source": [
    "integer_list = [1, 2, 3, 4, 5, 6, 7, 8]\n",
    "\n",
    "integer_list = [element * 2 for element in integer_list]\n",
    "\n",
    "print(integer_list)"
   ]
  },
  {
   "cell_type": "markdown",
   "id": "3b16b123",
   "metadata": {},
   "source": [
    "Conditions can also be placed in list comprehensions.  In this example the value **10** was skipped as \"*if element != 10* was specified as the conditional in the code.\n",
    "\n",
    "The syntax for list line comprehension is:\n",
    "\n",
    "#### *list = [expression for element in iterable if condition == True]*"
   ]
  },
  {
   "cell_type": "code",
   "execution_count": null,
   "id": "714903fd",
   "metadata": {},
   "outputs": [],
   "source": [
    "integer_list = [1, 2, 3, 4, 5, 6, 7, 8]\n",
    "\n",
    "integer_list = [element * 2 for element in integer_list if element != 10]\n",
    "\n",
    "print(integer_list)"
   ]
  },
  {
   "cell_type": "markdown",
   "id": "6b2a1b85",
   "metadata": {},
   "source": [
    "Any functions can be used with line comprehensions to manipulate the contents."
   ]
  },
  {
   "cell_type": "code",
   "execution_count": null,
   "id": "69ec00b3",
   "metadata": {},
   "outputs": [],
   "source": [
    "list_name = ['Dog', 'Cat', 'Bird', 'Monkey']\n",
    "\n",
    "list_name = [element.upper() for element in list_name]\n",
    "\n",
    "print(list_name)"
   ]
  },
  {
   "cell_type": "markdown",
   "id": "70fa4485",
   "metadata": {},
   "source": [
    "#### Sorting lists\n",
    "The sort method can be used to sort the contents of a list numerically or alphabetically."
   ]
  },
  {
   "cell_type": "code",
   "execution_count": null,
   "id": "26dc28c8",
   "metadata": {},
   "outputs": [],
   "source": [
    "integer_list = [1, 2, 3, 4, 5, 6, 7, 8]\n",
    "\n",
    "integer_list.sort()\n",
    "\n",
    "print(integer_list)"
   ]
  },
  {
   "cell_type": "markdown",
   "id": "6cff8d5d",
   "metadata": {},
   "source": [
    "This can also be done in reverse order."
   ]
  },
  {
   "cell_type": "code",
   "execution_count": null,
   "id": "1cb430f4",
   "metadata": {},
   "outputs": [],
   "source": [
    "integer_list = [1, 2, 3, 4, 5, 6, 7, 8]\n",
    "\n",
    "integer_list.sort(reverse = True)\n",
    "\n",
    "print(integer_list)"
   ]
  },
  {
   "cell_type": "markdown",
   "id": "35aa5338",
   "metadata": {},
   "source": [
    "#### Reversing the order of a list\n",
    "The reverse method enables the entire list to be reversed in order."
   ]
  },
  {
   "cell_type": "code",
   "execution_count": null,
   "id": "ebab9dc8",
   "metadata": {},
   "outputs": [],
   "source": [
    "list_name = ['Dog', 'Cat', 'Bird', 'Monkey']\n",
    "\n",
    "list_name.reverse()\n",
    "\n",
    "print(list_name)"
   ]
  },
  {
   "cell_type": "markdown",
   "id": "37937817",
   "metadata": {},
   "source": [
    "#### Count the number of occurrences in a list\n",
    "The **count** method allows for the returning of an integer that indicates how many occurrences a specific element appear in the list."
   ]
  },
  {
   "cell_type": "code",
   "execution_count": 13,
   "id": "53607d2b",
   "metadata": {},
   "outputs": [
    {
     "name": "stdout",
     "output_type": "stream",
     "text": [
      "2\n"
     ]
    }
   ],
   "source": [
    "list_name = ['Dog', 'Cat', 'Bird', 'Monkey', 'Monkey']\n",
    "\n",
    "print(list_name.count('Monkey'))"
   ]
  },
  {
   "cell_type": "markdown",
   "id": "9eed36f1",
   "metadata": {},
   "source": [
    "#### Get the first index value of a specific element\n",
    "The **index** method returns the index of an element, should the list contain duplicates of the element the first index is returned."
   ]
  },
  {
   "cell_type": "code",
   "execution_count": 14,
   "id": "778ab5f9",
   "metadata": {},
   "outputs": [
    {
     "name": "stdout",
     "output_type": "stream",
     "text": [
      "3\n"
     ]
    }
   ],
   "source": [
    "list_name = ['Dog', 'Cat', 'Bird', 'Monkey', 'Monkey']\n",
    "\n",
    "print(list_name.index('Monkey'))"
   ]
  }
 ],
 "metadata": {
  "kernelspec": {
   "display_name": "Python 3 (ipykernel)",
   "language": "python",
   "name": "python3"
  },
  "language_info": {
   "codemirror_mode": {
    "name": "ipython",
    "version": 3
   },
   "file_extension": ".py",
   "mimetype": "text/x-python",
   "name": "python",
   "nbconvert_exporter": "python",
   "pygments_lexer": "ipython3",
   "version": "3.10.6"
  }
 },
 "nbformat": 4,
 "nbformat_minor": 5
}
