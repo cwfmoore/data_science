{
 "cells": [
  {
   "cell_type": "markdown",
   "id": "a464a263",
   "metadata": {
    "slideshow": {
     "slide_type": "slide"
    }
   },
   "source": [
    "### Data Types: Introduction to Lists\n",
    "* Lists can store multiple elements of any type.\n",
    "* Lists are ordered, changeable and allow duplicate values.\n",
    "* Lists use [ square brackets ]\n",
    "* Units of data stored in a list are referred to as elements."
   ]
  },
  {
   "cell_type": "markdown",
   "id": "ae67ca41",
   "metadata": {
    "slideshow": {
     "slide_type": "slide"
    }
   },
   "source": [
    "### Creating a list\n",
    "Use square brackets and comma separate values."
   ]
  },
  {
   "cell_type": "code",
   "execution_count": 2,
   "id": "750417dc",
   "metadata": {
    "slideshow": {
     "slide_type": "fragment"
    }
   },
   "outputs": [],
   "source": [
    "list_name = ['Dog', 'Cat', 'Bird', 'Monkey']"
   ]
  },
  {
   "cell_type": "markdown",
   "id": "21f784cb",
   "metadata": {
    "slideshow": {
     "slide_type": "slide"
    }
   },
   "source": [
    "### Accessing elements within a list\n",
    "\n",
    "Elements within a list can be accessed using an integers within square brackets.\n",
    "\n",
    "<span style=\"color:red\">NOTE: </span> Indexes start a **0** for the first element."
   ]
  },
  {
   "cell_type": "code",
   "execution_count": 1,
   "id": "532feaa7",
   "metadata": {
    "slideshow": {
     "slide_type": "fragment"
    }
   },
   "outputs": [],
   "source": [
    "list_name = ['Dog', 'Cat', 'Bird', 'Monkey']\n",
    "\n",
    "element = list_name[3]"
   ]
  },
  {
   "cell_type": "markdown",
   "id": "53788765",
   "metadata": {
    "slideshow": {
     "slide_type": "fragment"
    }
   },
   "source": [
    "Slices (*range of elements*) of a list can be accessed using a colon within the square brackets."
   ]
  },
  {
   "cell_type": "code",
   "execution_count": 3,
   "id": "a9e25e7e",
   "metadata": {
    "slideshow": {
     "slide_type": "fragment"
    }
   },
   "outputs": [],
   "source": [
    "list_name = ['Dog', 'Cat', 'Bird', 'Monkey']\n",
    "\n",
    "# Returns the 2nd up to and including the 3rd elements\n",
    "list_slice = list_name[1:3]"
   ]
  },
  {
   "cell_type": "markdown",
   "id": "2b70b497",
   "metadata": {
    "slideshow": {
     "slide_type": "fragment"
    }
   },
   "source": [
    "Negative indexes can be submitted to access elements from the end of the list."
   ]
  },
  {
   "cell_type": "code",
   "execution_count": 4,
   "id": "aa599abd",
   "metadata": {
    "slideshow": {
     "slide_type": "fragment"
    }
   },
   "outputs": [],
   "source": [
    "list_name = ['Dog', 'Cat', 'Bird', 'Monkey']\n",
    "\n",
    "last_element = list_name[-1]"
   ]
  },
  {
   "cell_type": "markdown",
   "id": "f49eb4c2",
   "metadata": {
    "slideshow": {
     "slide_type": "slide"
    }
   },
   "source": [
    "### Returning the length of a list\n",
    "The length of a list can be found using **len()**"
   ]
  },
  {
   "cell_type": "code",
   "execution_count": 5,
   "id": "fb55e022",
   "metadata": {
    "slideshow": {
     "slide_type": "fragment"
    }
   },
   "outputs": [],
   "source": [
    "list_name = ['Dog', 'Cat', 'Bird', 'Monkey']\n",
    "\n",
    "length = len(list_name)"
   ]
  },
  {
   "cell_type": "markdown",
   "id": "e5d4e471",
   "metadata": {
    "slideshow": {
     "slide_type": "slide"
    }
   },
   "source": [
    "### Add elements to the end of a list\n",
    "The **append** function allows a new element to be added to the end of a list."
   ]
  },
  {
   "cell_type": "code",
   "execution_count": 6,
   "id": "e094c04d",
   "metadata": {
    "slideshow": {
     "slide_type": "fragment"
    }
   },
   "outputs": [],
   "source": [
    "list_name = ['Dog', 'Cat', 'Bird', 'Monkey']\n",
    "\n",
    "list_name.append('Fish')"
   ]
  },
  {
   "cell_type": "markdown",
   "id": "dbaa4e75",
   "metadata": {
    "slideshow": {
     "slide_type": "slide"
    }
   },
   "source": [
    "The **extend** function appends a list to the end of an existing list"
   ]
  },
  {
   "cell_type": "code",
   "execution_count": 7,
   "id": "c5f5daf7",
   "metadata": {
    "slideshow": {
     "slide_type": "fragment"
    }
   },
   "outputs": [],
   "source": [
    "list_name = ['Dog', 'Cat', 'Bird', 'Monkey']\n",
    "\n",
    "new_list = ['Fish', 'Hamster', 'Snake']\n",
    "\n",
    "list_name.extend(new_list)"
   ]
  },
  {
   "cell_type": "markdown",
   "id": "d10cd44c",
   "metadata": {
    "slideshow": {
     "slide_type": "slide"
    }
   },
   "source": [
    "The **extend** function also works with other data types."
   ]
  },
  {
   "cell_type": "code",
   "execution_count": 8,
   "id": "3cfe6e82",
   "metadata": {
    "slideshow": {
     "slide_type": "fragment"
    }
   },
   "outputs": [],
   "source": [
    "list_name = ['Dog', 'Cat', 'Bird', 'Monkey']\n",
    "\n",
    "new_tuple = ('Fish', 'Hamster', 'Snake')\n",
    "\n",
    "list_name.extend(new_tuple)"
   ]
  },
  {
   "cell_type": "markdown",
   "id": "b830c106",
   "metadata": {
    "slideshow": {
     "slide_type": "slide"
    }
   },
   "source": [
    "### Remove items from a list\n",
    "The **remove** function allows the removal of an element from the list by name."
   ]
  },
  {
   "cell_type": "code",
   "execution_count": 9,
   "id": "50d8fa14",
   "metadata": {
    "slideshow": {
     "slide_type": "fragment"
    }
   },
   "outputs": [],
   "source": [
    "list_name = ['Dog', 'Cat', 'Bird', 'Monkey']\n",
    "\n",
    "list_name.remove('Cat')"
   ]
  },
  {
   "cell_type": "markdown",
   "id": "7ba9fb89",
   "metadata": {
    "slideshow": {
     "slide_type": "slide"
    }
   },
   "source": [
    "### Remove an element and return the element as a new variable\n",
    "The **pop()** function has two utilities, it removes an element from a list and can store that element as a new variable."
   ]
  },
  {
   "cell_type": "code",
   "execution_count": 10,
   "id": "d1e72e06",
   "metadata": {
    "slideshow": {
     "slide_type": "fragment"
    }
   },
   "outputs": [],
   "source": [
    "list_name = ['Dog', 'Cat', 'Bird', 'Monkey']\n",
    "\n",
    "new_variable = list_name.pop(3)"
   ]
  },
  {
   "cell_type": "markdown",
   "id": "eab6b52e",
   "metadata": {
    "slideshow": {
     "slide_type": "slide"
    }
   },
   "source": [
    "### Delete an element from a list\n",
    "The **del** keyword can be used to delete an element from a list"
   ]
  },
  {
   "cell_type": "code",
   "execution_count": 11,
   "id": "0d74bf63",
   "metadata": {
    "slideshow": {
     "slide_type": "fragment"
    }
   },
   "outputs": [],
   "source": [
    "list_name = ['Dog', 'Cat', 'Bird', 'Monkey']\n",
    "\n",
    "del list_name[2]"
   ]
  },
  {
   "cell_type": "markdown",
   "id": "cb3f93a1",
   "metadata": {
    "slideshow": {
     "slide_type": "fragment"
    }
   },
   "source": [
    "This can also be used to delete the entire list.\n",
    "\n",
    "<span style=\"color:red\">NOTE: </span>Trying to print the list after deletion causes an error."
   ]
  },
  {
   "cell_type": "code",
   "execution_count": 12,
   "id": "63249409",
   "metadata": {
    "slideshow": {
     "slide_type": "fragment"
    }
   },
   "outputs": [],
   "source": [
    "list_name = ['Dog', 'Cat', 'Bird', 'Monkey']\n",
    "\n",
    "del list_name"
   ]
  },
  {
   "cell_type": "markdown",
   "id": "8d6718b6",
   "metadata": {
    "slideshow": {
     "slide_type": "slide"
    }
   },
   "source": [
    "### Clearing a list of all elements\n",
    "Clearing the list is possible using the **clear** function, this returns and empty list."
   ]
  },
  {
   "cell_type": "code",
   "execution_count": 13,
   "id": "1aeef716",
   "metadata": {
    "slideshow": {
     "slide_type": "fragment"
    }
   },
   "outputs": [],
   "source": [
    "list_name = ['Dog', 'Cat', 'Bird', 'Monkey']\n",
    "\n",
    "list_name.clear()"
   ]
  },
  {
   "cell_type": "markdown",
   "id": "4968bca6",
   "metadata": {
    "slideshow": {
     "slide_type": "slide"
    }
   },
   "source": [
    "### Concatenate lists together\n",
    "Lists can be concatenated (*to connect or link in a series or chain*) by using a **+** symbol."
   ]
  },
  {
   "cell_type": "code",
   "execution_count": 14,
   "id": "d52453a4",
   "metadata": {
    "slideshow": {
     "slide_type": "fragment"
    }
   },
   "outputs": [],
   "source": [
    "list_name = ['Dog', 'Cat', 'Bird', 'Monkey']\n",
    "\n",
    "new_list = ['Fish', 'Hamster', 'Snake']"
   ]
  },
  {
   "cell_type": "markdown",
   "id": "783ac3c7",
   "metadata": {
    "slideshow": {
     "slide_type": "slide"
    }
   },
   "source": [
    "### The list() constructor\n",
    "\n",
    "Other data types can be converted into a list using the list constructor."
   ]
  },
  {
   "cell_type": "code",
   "execution_count": 15,
   "id": "b7c44956",
   "metadata": {
    "slideshow": {
     "slide_type": "fragment"
    }
   },
   "outputs": [],
   "source": [
    "tuple_name = (1, 2, 3, 4, 5)\n",
    "\n",
    "tuple_name = list(tuple_name)"
   ]
  },
  {
   "cell_type": "markdown",
   "id": "db74f8e6",
   "metadata": {
    "slideshow": {
     "slide_type": "slide"
    }
   },
   "source": [
    "### Check if elements is in list\n",
    "\n",
    "It is possible to check if a specified element is contained in a list."
   ]
  },
  {
   "cell_type": "code",
   "execution_count": 16,
   "id": "b854b5f5",
   "metadata": {
    "slideshow": {
     "slide_type": "fragment"
    }
   },
   "outputs": [],
   "source": [
    "list_name = ['Dog', 'Cat', 'Bird', 'Monkey']\n",
    "\n",
    "element1 = 'Bird'\n",
    "\n",
    "element2 = 'Fish'"
   ]
  },
  {
   "cell_type": "markdown",
   "id": "804e7f25",
   "metadata": {
    "slideshow": {
     "slide_type": "slide"
    }
   },
   "source": [
    "### The elements in a list are changeable\n",
    "\n",
    "Updating an element in a list is possible by using the index in square brackets."
   ]
  },
  {
   "cell_type": "code",
   "execution_count": 17,
   "id": "5e468e5b",
   "metadata": {
    "slideshow": {
     "slide_type": "fragment"
    }
   },
   "outputs": [],
   "source": [
    "list_name = ['Dog', 'Cat', 'Bird', 'Monkey']\n",
    "\n",
    "list_name[2] = 'Fish'"
   ]
  },
  {
   "cell_type": "markdown",
   "id": "f4538726",
   "metadata": {
    "slideshow": {
     "slide_type": "slide"
    }
   },
   "source": [
    "More than one element can be changed this way using the slice method.\n",
    "<span style=\"color:red\">NOTE: </span> The elements (*Hamster & Donkey*) are submitted as a list.\n",
    "This can be a useful way to insert elements into specific positions or overwriting existing elements."
   ]
  },
  {
   "cell_type": "code",
   "execution_count": 18,
   "id": "a1281729",
   "metadata": {
    "slideshow": {
     "slide_type": "fragment"
    }
   },
   "outputs": [],
   "source": [
    "list_name = ['Dog', 'Cat', 'Bird', 'Monkey']\n",
    "\n",
    "list_name[2:2] = ['Hamster', 'Donkey']"
   ]
  },
  {
   "cell_type": "markdown",
   "id": "2b51f7ff",
   "metadata": {
    "slideshow": {
     "slide_type": "slide"
    }
   },
   "source": [
    "### Inserting items into lists \n",
    "The insert method can be used to *insert* elements into a list at a specific index."
   ]
  },
  {
   "cell_type": "code",
   "execution_count": 19,
   "id": "bb979358",
   "metadata": {
    "slideshow": {
     "slide_type": "fragment"
    }
   },
   "outputs": [
    {
     "name": "stdout",
     "output_type": "stream",
     "text": [
      "['Dog', 'Cat', 'Fish', 'Bird', 'Monkey']\n"
     ]
    }
   ],
   "source": [
    "list_name = ['Dog', 'Cat', 'Bird', 'Monkey']\n",
    "\n",
    "list_name.insert(2, 'Fish')\n",
    "\n",
    "print(list_name)"
   ]
  },
  {
   "cell_type": "markdown",
   "id": "7bd977ca",
   "metadata": {
    "slideshow": {
     "slide_type": "slide"
    }
   },
   "source": [
    "### Iterating lists\n",
    "For loops can be used to iterate through lists."
   ]
  },
  {
   "cell_type": "code",
   "execution_count": 20,
   "id": "d84d0ae2",
   "metadata": {
    "slideshow": {
     "slide_type": "fragment"
    }
   },
   "outputs": [
    {
     "name": "stdout",
     "output_type": "stream",
     "text": [
      "Dog\n",
      "Cat\n",
      "Bird\n",
      "Monkey\n"
     ]
    }
   ],
   "source": [
    "list_name = ['Dog', 'Cat', 'Bird', 'Monkey']\n",
    "\n",
    "for element in list_name:\n",
    "    print(element)"
   ]
  },
  {
   "cell_type": "markdown",
   "id": "8f49a0fd",
   "metadata": {
    "slideshow": {
     "slide_type": "fragment"
    }
   },
   "source": [
    "The functions **range** and **len** can be used to iterate through all elements of a list by index."
   ]
  },
  {
   "cell_type": "code",
   "execution_count": 21,
   "id": "d2efaeda",
   "metadata": {
    "slideshow": {
     "slide_type": "fragment"
    }
   },
   "outputs": [
    {
     "name": "stdout",
     "output_type": "stream",
     "text": [
      "0 Dog\n",
      "1 Cat\n",
      "2 Bird\n",
      "3 Monkey\n"
     ]
    }
   ],
   "source": [
    "list_name = ['Dog', 'Cat', 'Bird', 'Monkey']\n",
    "\n",
    "for index in range(len(list_name)):\n",
    "    print(index, list_name[index])"
   ]
  },
  {
   "cell_type": "markdown",
   "id": "82407174",
   "metadata": {
    "slideshow": {
     "slide_type": "fragment"
    }
   },
   "source": [
    "**While** loops can also be used to iterate through lists."
   ]
  },
  {
   "cell_type": "code",
   "execution_count": 22,
   "id": "092c6837",
   "metadata": {
    "slideshow": {
     "slide_type": "fragment"
    }
   },
   "outputs": [
    {
     "name": "stdout",
     "output_type": "stream",
     "text": [
      "0 Dog\n",
      "1 Cat\n",
      "2 Bird\n",
      "3 Monkey\n"
     ]
    }
   ],
   "source": [
    "list_name = ['Dog', 'Cat', 'Bird', 'Monkey']\n",
    "\n",
    "index = 0\n",
    "while index < len(list_name):\n",
    "    print(index, list_name[index])\n",
    "    index += 1"
   ]
  },
  {
   "cell_type": "markdown",
   "id": "bcabd3c2",
   "metadata": {
    "slideshow": {
     "slide_type": "slide"
    }
   },
   "source": [
    "### List line comprehensions are useful ways to manipulate lists in one line of code\n",
    "This line comprehension will create a new list with double the integer values in the original list."
   ]
  },
  {
   "cell_type": "code",
   "execution_count": 23,
   "id": "931d2c52",
   "metadata": {
    "slideshow": {
     "slide_type": "fragment"
    }
   },
   "outputs": [],
   "source": [
    "integer_list = [1, 2, 3, 4, 5, 6, 7, 8]\n",
    "\n",
    "integer_list = [element * 2 for element in integer_list]"
   ]
  },
  {
   "cell_type": "markdown",
   "id": "3b16b123",
   "metadata": {
    "slideshow": {
     "slide_type": "slide"
    }
   },
   "source": [
    "Conditions can also be placed in list comprehensions.  In this example the value **10** was skipped as \"*if element != 10* was specified as the conditional in the code.\n",
    "\n",
    "The syntax for list line comprehension is:\n",
    "\n",
    "#### *list = [expression for element in iterable if condition == True]*"
   ]
  },
  {
   "cell_type": "code",
   "execution_count": 24,
   "id": "714903fd",
   "metadata": {
    "slideshow": {
     "slide_type": "fragment"
    }
   },
   "outputs": [],
   "source": [
    "integer_list = [1, 2, 3, 4, 5, 6, 7, 8]\n",
    "\n",
    "integer_list = [element * 2 for element in integer_list if element != 10]"
   ]
  },
  {
   "cell_type": "markdown",
   "id": "6b2a1b85",
   "metadata": {
    "slideshow": {
     "slide_type": "fragment"
    }
   },
   "source": [
    "Any functions can be used with line comprehensions to manipulate the contents."
   ]
  },
  {
   "cell_type": "code",
   "execution_count": 25,
   "id": "69ec00b3",
   "metadata": {
    "slideshow": {
     "slide_type": "fragment"
    }
   },
   "outputs": [],
   "source": [
    "list_name = ['Dog', 'Cat', 'Bird', 'Monkey']\n",
    "\n",
    "list_name = [element.upper() for element in list_name]"
   ]
  },
  {
   "cell_type": "markdown",
   "id": "70fa4485",
   "metadata": {
    "slideshow": {
     "slide_type": "slide"
    }
   },
   "source": [
    "### Sorting lists\n",
    "The sort method can be used to sort the contents of a list numerically or alphabetically."
   ]
  },
  {
   "cell_type": "code",
   "execution_count": 26,
   "id": "26dc28c8",
   "metadata": {
    "slideshow": {
     "slide_type": "fragment"
    }
   },
   "outputs": [],
   "source": [
    "integer_list = [1, 2, 3, 4, 5, 6, 7, 8]\n",
    "\n",
    "integer_list.sort()"
   ]
  },
  {
   "cell_type": "markdown",
   "id": "6cff8d5d",
   "metadata": {
    "slideshow": {
     "slide_type": "slide"
    }
   },
   "source": [
    "This can also be done in reverse order."
   ]
  },
  {
   "cell_type": "code",
   "execution_count": 27,
   "id": "1cb430f4",
   "metadata": {
    "slideshow": {
     "slide_type": "fragment"
    }
   },
   "outputs": [],
   "source": [
    "integer_list = [1, 2, 3, 4, 5, 6, 7, 8]\n",
    "\n",
    "integer_list.sort(reverse = True)"
   ]
  },
  {
   "cell_type": "markdown",
   "id": "35aa5338",
   "metadata": {
    "slideshow": {
     "slide_type": "slide"
    }
   },
   "source": [
    "### Reversing the order of a list\n",
    "The reverse method enables the entire list to be reversed in order."
   ]
  },
  {
   "cell_type": "code",
   "execution_count": 28,
   "id": "ebab9dc8",
   "metadata": {
    "slideshow": {
     "slide_type": "fragment"
    }
   },
   "outputs": [],
   "source": [
    "list_name = ['Dog', 'Cat', 'Bird', 'Monkey']\n",
    "\n",
    "list_name.reverse()"
   ]
  },
  {
   "cell_type": "markdown",
   "id": "37937817",
   "metadata": {
    "slideshow": {
     "slide_type": "slide"
    }
   },
   "source": [
    "### Count the number of occurrences in a list\n",
    "The **count** method allows for the returning of an integer that indicates how many occurrences a specific element appear in the list."
   ]
  },
  {
   "cell_type": "code",
   "execution_count": 29,
   "id": "53607d2b",
   "metadata": {
    "slideshow": {
     "slide_type": "fragment"
    }
   },
   "outputs": [],
   "source": [
    "list_name = ['Dog', 'Cat', 'Bird', 'Monkey', 'Monkey']"
   ]
  },
  {
   "cell_type": "markdown",
   "id": "9eed36f1",
   "metadata": {
    "slideshow": {
     "slide_type": "slide"
    }
   },
   "source": [
    "### Get the first index value of a specific element\n",
    "The **index** method returns the index of an element, should the list contain duplicates of the element the first index is returned."
   ]
  },
  {
   "cell_type": "code",
   "execution_count": 30,
   "id": "778ab5f9",
   "metadata": {
    "slideshow": {
     "slide_type": "fragment"
    }
   },
   "outputs": [],
   "source": [
    "list_name = ['Dog', 'Cat', 'Bird', 'Monkey', 'Monkey']"
   ]
  }
 ],
 "metadata": {
  "celltoolbar": "Slideshow",
  "kernelspec": {
   "display_name": "Python 3 (ipykernel)",
   "language": "python",
   "name": "python3"
  },
  "language_info": {
   "codemirror_mode": {
    "name": "ipython",
    "version": 3
   },
   "file_extension": ".py",
   "mimetype": "text/x-python",
   "name": "python",
   "nbconvert_exporter": "python",
   "pygments_lexer": "ipython3",
   "version": "3.10.6"
  }
 },
 "nbformat": 4,
 "nbformat_minor": 5
}
