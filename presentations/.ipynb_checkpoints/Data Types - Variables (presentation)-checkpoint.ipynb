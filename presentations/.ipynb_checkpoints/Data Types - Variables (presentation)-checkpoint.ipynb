{
 "cells": [
  {
   "cell_type": "markdown",
   "id": "f3b56d6f",
   "metadata": {
    "slideshow": {
     "slide_type": "slide"
    }
   },
   "source": [
    "### Data Types: Variables\n",
    "* Variables are containers for storing data values.\n",
    "\n",
    "\n",
    "* In python a variable is defined when a value is assigned to it.\n",
    "\n",
    "\n",
    "* Python has many variable types, we will consider the following:\n",
    "\n",
    "    * Integers (*eg*. 1)\n",
    "    \n",
    "    * Floats (*eg*. 1.2)\n",
    "    \n",
    "    * Strings (*eg*. 'Dog')\n",
    "    \n",
    "    * Boolean (*eg*. True)"
   ]
  },
  {
   "cell_type": "markdown",
   "id": "cb3432bd",
   "metadata": {
    "slideshow": {
     "slide_type": "slide"
    }
   },
   "source": [
    "### Casting\n",
    "One variable type can be converted to another by using a process called **casting**."
   ]
  },
  {
   "cell_type": "code",
   "execution_count": null,
   "id": "fed73a4c",
   "metadata": {
    "slideshow": {
     "slide_type": "fragment"
    }
   },
   "outputs": [],
   "source": [
    "variable = 1"
   ]
  },
  {
   "cell_type": "code",
   "execution_count": null,
   "id": "4ac6fd3e",
   "metadata": {
    "slideshow": {
     "slide_type": "fragment"
    }
   },
   "outputs": [],
   "source": [
    "variable = float(variable)"
   ]
  },
  {
   "cell_type": "code",
   "execution_count": null,
   "id": "c120e952",
   "metadata": {
    "slideshow": {
     "slide_type": "fragment"
    }
   },
   "outputs": [],
   "source": [
    "variable = str(variable)"
   ]
  },
  {
   "cell_type": "markdown",
   "id": "e91a8734",
   "metadata": {
    "slideshow": {
     "slide_type": "slide"
    }
   },
   "source": [
    "### Things to remember about variables\n",
    "Variable and their names have particular rules in Python."
   ]
  },
  {
   "cell_type": "code",
   "execution_count": null,
   "id": "a06c3f77",
   "metadata": {
    "slideshow": {
     "slide_type": "fragment"
    }
   },
   "outputs": [],
   "source": [
    "# Variable names are care sensitive, upper case letters are only used in some cases by convention.\n",
    "\n",
    "b = 10\n",
    "\n",
    "B = 100"
   ]
  },
  {
   "cell_type": "code",
   "execution_count": null,
   "id": "fabfb2d9",
   "metadata": {
    "slideshow": {
     "slide_type": "fragment"
    }
   },
   "outputs": [],
   "source": [
    "# Variable names cannot, start with numbers, have spaces or hyphens. Running the following will create an error.\n",
    "\n",
    "1variable = 10\n",
    "\n",
    "one-variable = 10\n",
    "\n",
    "one variable = 10"
   ]
  },
  {
   "cell_type": "markdown",
   "id": "0e20a45a",
   "metadata": {
    "slideshow": {
     "slide_type": "slide"
    }
   },
   "source": [
    "### Using different \"cases\" in Python\n",
    "There is a **case convention** when coding in Python."
   ]
  },
  {
   "cell_type": "markdown",
   "id": "5a3f569e",
   "metadata": {
    "slideshow": {
     "slide_type": "fragment"
    }
   },
   "source": [
    "* **Camel Case** is used for the names of functions"
   ]
  },
  {
   "cell_type": "code",
   "execution_count": null,
   "id": "4eebe282",
   "metadata": {
    "slideshow": {
     "slide_type": "fragment"
    }
   },
   "outputs": [],
   "source": [
    "def newFunction(x):\n",
    "    return x"
   ]
  },
  {
   "cell_type": "markdown",
   "id": "2e7f6d42",
   "metadata": {
    "slideshow": {
     "slide_type": "fragment"
    }
   },
   "source": [
    "* **Pascal Case** is used for classes"
   ]
  },
  {
   "cell_type": "code",
   "execution_count": null,
   "id": "14e26c84",
   "metadata": {
    "slideshow": {
     "slide_type": "fragment"
    }
   },
   "outputs": [],
   "source": [
    "class NewClass:\n",
    "    pass"
   ]
  },
  {
   "cell_type": "markdown",
   "id": "4cab22a1",
   "metadata": {
    "slideshow": {
     "slide_type": "fragment"
    }
   },
   "source": [
    "* **Snake Case** is used for variables"
   ]
  },
  {
   "cell_type": "code",
   "execution_count": null,
   "id": "c59e3ff3",
   "metadata": {
    "slideshow": {
     "slide_type": "fragment"
    }
   },
   "outputs": [],
   "source": [
    "new_variable_name = 100"
   ]
  },
  {
   "cell_type": "markdown",
   "id": "62094d99",
   "metadata": {
    "slideshow": {
     "slide_type": "slide"
    }
   },
   "source": [
    "### Multiple variables\n",
    "Python enables the user to assign mutliple variable in one line of code."
   ]
  },
  {
   "cell_type": "code",
   "execution_count": null,
   "id": "ce1cc795",
   "metadata": {
    "slideshow": {
     "slide_type": "fragment"
    }
   },
   "outputs": [],
   "source": [
    "a, b, c = 'Dog', 'Cat', 'Bird'"
   ]
  },
  {
   "cell_type": "markdown",
   "id": "8c2748d1",
   "metadata": {
    "slideshow": {
     "slide_type": "fragment"
    }
   },
   "source": [
    "Or set multiple variables to the same value."
   ]
  },
  {
   "cell_type": "code",
   "execution_count": null,
   "id": "da6d94ae",
   "metadata": {
    "slideshow": {
     "slide_type": "fragment"
    }
   },
   "outputs": [],
   "source": [
    "a = b = c = 'Dog'"
   ]
  },
  {
   "cell_type": "markdown",
   "id": "14098e66",
   "metadata": {
    "slideshow": {
     "slide_type": "fragment"
    }
   },
   "source": [
    "Multiple variables can be **unpacked** from **iterables** such as lists or tuples."
   ]
  },
  {
   "cell_type": "code",
   "execution_count": null,
   "id": "ebee2293",
   "metadata": {
    "slideshow": {
     "slide_type": "fragment"
    }
   },
   "outputs": [],
   "source": [
    "a, b, c = ('Dog', 'Cat', 'Bird')"
   ]
  },
  {
   "cell_type": "markdown",
   "id": "4220d4b4",
   "metadata": {
    "slideshow": {
     "slide_type": "slide"
    }
   },
   "source": [
    "### Strings\n",
    "Strings are used to store text in Python."
   ]
  },
  {
   "cell_type": "markdown",
   "id": "6f761886",
   "metadata": {
    "slideshow": {
     "slide_type": "fragment"
    }
   },
   "source": [
    "* Both single and double quotes can be used in python"
   ]
  },
  {
   "cell_type": "code",
   "execution_count": null,
   "id": "e0358787",
   "metadata": {
    "slideshow": {
     "slide_type": "fragment"
    }
   },
   "outputs": [],
   "source": [
    "string_variable = 'Dog'\n",
    "\n",
    "string_variable = \"Dog\""
   ]
  },
  {
   "cell_type": "markdown",
   "id": "8b5a1974",
   "metadata": {
    "slideshow": {
     "slide_type": "fragment"
    }
   },
   "source": [
    "* Strings can use multiple lines by enclosing them in 3 quotes (*single or double*)"
   ]
  },
  {
   "cell_type": "code",
   "execution_count": null,
   "id": "abed585e",
   "metadata": {
    "slideshow": {
     "slide_type": "fragment"
    }
   },
   "outputs": [],
   "source": [
    "string_variable = \"\"\"\n",
    "    All work and no play\n",
    "    makes Jack a\n",
    "    dull boy.\n",
    "\"\"\""
   ]
  },
  {
   "cell_type": "markdown",
   "id": "a54243ba",
   "metadata": {
    "slideshow": {
     "slide_type": "slide"
    }
   },
   "source": [
    "### Strings can be accessed like lists / arrays\n",
    "Individual characters of a string can be accessed by using an index in square brackets. Negative values can be used to access characters from the end."
   ]
  },
  {
   "cell_type": "code",
   "execution_count": null,
   "id": "71d333ba",
   "metadata": {
    "slideshow": {
     "slide_type": "fragment"
    }
   },
   "outputs": [],
   "source": [
    "string_variable = 'All work and no play, makes Jack a dull boy.'\n",
    "\n",
    "char = string_variable[4]"
   ]
  },
  {
   "cell_type": "markdown",
   "id": "bda46ee2",
   "metadata": {
    "slideshow": {
     "slide_type": "fragment"
    }
   },
   "source": [
    "This method can be used with a colon within the square brackets to **slice** and return a section of the string."
   ]
  },
  {
   "cell_type": "code",
   "execution_count": null,
   "id": "54c3c2ee",
   "metadata": {
    "slideshow": {
     "slide_type": "fragment"
    }
   },
   "outputs": [],
   "source": [
    "string_variable = 'All work and no play, makes Jack a dull boy.'\n",
    "\n",
    "slice_ = string_variable[13:20]"
   ]
  },
  {
   "cell_type": "markdown",
   "id": "0b656553",
   "metadata": {
    "slideshow": {
     "slide_type": "slide"
    }
   },
   "source": [
    "### Return the length of a string\n",
    "A string's length can be returned by the **len()** function."
   ]
  },
  {
   "cell_type": "code",
   "execution_count": null,
   "id": "e29d3c5b",
   "metadata": {
    "slideshow": {
     "slide_type": "fragment"
    }
   },
   "outputs": [],
   "source": [
    "string_variable = 'All work and no play, makes Jack a dull boy.'\n",
    "\n",
    "length = len(string_variable)"
   ]
  },
  {
   "cell_type": "markdown",
   "id": "e83007a9",
   "metadata": {
    "slideshow": {
     "slide_type": "slide"
    }
   },
   "source": [
    "### Search for a substring in a string\n",
    "A pattern of characters within a string can be found using **in** and **not in**."
   ]
  },
  {
   "cell_type": "code",
   "execution_count": null,
   "id": "a302e6f2",
   "metadata": {
    "slideshow": {
     "slide_type": "fragment"
    }
   },
   "outputs": [],
   "source": [
    "string_variable = 'All work and no play, makes Jack a dull boy.'\n",
    "\n",
    "sub_string = 'All'"
   ]
  },
  {
   "cell_type": "markdown",
   "id": "c331379a",
   "metadata": {
    "slideshow": {
     "slide_type": "slide"
    }
   },
   "source": [
    "### Replace characters in a string\n",
    "The **replace()** method can be used to swap specific characters for alternate ones.  In the example all spaces are replaced with an underscore."
   ]
  },
  {
   "cell_type": "code",
   "execution_count": null,
   "id": "53af4a86",
   "metadata": {
    "slideshow": {
     "slide_type": "fragment"
    }
   },
   "outputs": [],
   "source": [
    "string_variable = 'All work and no play, makes Jack a dull boy.'\n",
    "\n",
    "string_variable = string_variable.replace(' ', '_')"
   ]
  },
  {
   "cell_type": "markdown",
   "id": "328797da",
   "metadata": {
    "slideshow": {
     "slide_type": "slide"
    }
   },
   "source": [
    "### Remove white space\n",
    "All the empty spaces (*white space*) can be removed from the start and end of strings using the built in **strip()** method.\n",
    "In this example the **escape characters** *\\n* and *\\t* for new line and tab space respectively to demonstrate these too are removed."
   ]
  },
  {
   "cell_type": "code",
   "execution_count": null,
   "id": "1d480d89",
   "metadata": {
    "slideshow": {
     "slide_type": "fragment"
    }
   },
   "outputs": [],
   "source": [
    "string_variable = '\\n\\t   All work and no play, makes Jack a dull boy.   \\t\\n'\n",
    "\n",
    "no_white_space = string_variable.strip()"
   ]
  },
  {
   "cell_type": "markdown",
   "id": "68602b2f",
   "metadata": {
    "slideshow": {
     "slide_type": "slide"
    }
   },
   "source": [
    "### Change character cases with upper, lower, capitalized & title methods\n",
    "Using the built in methods **upper()**, **lower()**, **capitalize()** and **title()** the cases of the characters can be changed."
   ]
  },
  {
   "cell_type": "code",
   "execution_count": null,
   "id": "c2e943e4",
   "metadata": {
    "slideshow": {
     "slide_type": "fragment"
    }
   },
   "outputs": [],
   "source": [
    "string_variable = 'All work and no play, makes Jack a dull boy.'"
   ]
  },
  {
   "cell_type": "markdown",
   "id": "1b77e520",
   "metadata": {
    "slideshow": {
     "slide_type": "slide"
    }
   },
   "source": [
    "### Convert strings into lists using split\n",
    "Strings can be converted into lists by using the method **split()** and designating a character to split on.  In this example the string is split on the space."
   ]
  },
  {
   "cell_type": "code",
   "execution_count": null,
   "id": "174440ce",
   "metadata": {
    "slideshow": {
     "slide_type": "fragment"
    }
   },
   "outputs": [],
   "source": [
    "string_variable = 'All work and no play, makes Jack a dull boy.'\n",
    "\n",
    "split = string_variable.split(' ')"
   ]
  },
  {
   "cell_type": "markdown",
   "id": "b25a2372",
   "metadata": {
    "slideshow": {
     "slide_type": "fragment"
    }
   },
   "source": [
    "Inversely **join()** can be used to create strings for lists"
   ]
  },
  {
   "cell_type": "code",
   "execution_count": null,
   "id": "6dbac500",
   "metadata": {
    "slideshow": {
     "slide_type": "fragment"
    }
   },
   "outputs": [],
   "source": [
    "string_variable = ' '.join(split)"
   ]
  },
  {
   "cell_type": "markdown",
   "id": "621dba95",
   "metadata": {
    "slideshow": {
     "slide_type": "slide"
    }
   },
   "source": [
    "### Concatenation of string\n",
    "Strings can be concatenated (*to connect or link in a series or chain*) using the **+** symbol."
   ]
  },
  {
   "cell_type": "code",
   "execution_count": null,
   "id": "1f3d6b23",
   "metadata": {
    "slideshow": {
     "slide_type": "fragment"
    }
   },
   "outputs": [],
   "source": [
    "string_a = 'All work and '\n",
    "\n",
    "string_b = 'no play'\n",
    "\n",
    "string_c = string_a + string_b"
   ]
  },
  {
   "cell_type": "markdown",
   "id": "2255edc4",
   "metadata": {
    "slideshow": {
     "slide_type": "slide"
    }
   },
   "source": [
    "### 'F' - strings\n",
    "As of Python 3.6 'F' strings (*or formatted strings*) can be used to insert other variables into a string.\n",
    "In the example note the 'f' character infront of the first quotation mark."
   ]
  },
  {
   "cell_type": "code",
   "execution_count": null,
   "id": "d62b6d7c",
   "metadata": {
    "slideshow": {
     "slide_type": "fragment"
    }
   },
   "outputs": [],
   "source": [
    "number = 38\n",
    "\n",
    "name = 'Jack'\n",
    "\n",
    "string = f'Hello {name}, you have {number} new messages!'"
   ]
  },
  {
   "cell_type": "markdown",
   "id": "f2085875",
   "metadata": {
    "slideshow": {
     "slide_type": "slide"
    }
   },
   "source": [
    "### Formatting numerical strings\n",
    "Number string can be modified to help readability."
   ]
  },
  {
   "cell_type": "code",
   "execution_count": null,
   "id": "d9a0fe4d",
   "metadata": {
    "slideshow": {
     "slide_type": "fragment"
    }
   },
   "outputs": [],
   "source": [
    "# Tip: put underscores in large numbers for code readability\n",
    "integer = 12_237_423_564\n",
    "\n",
    "number_string = f'{integer:,}'"
   ]
  },
  {
   "cell_type": "markdown",
   "id": "b7265f31",
   "metadata": {
    "slideshow": {
     "slide_type": "slide"
    }
   },
   "source": [
    "### Startswith and Endswith\n",
    "The built in methods **startswith()** and **endswith()** are able to check if the submitted characters appear at the start or end of the string. A boolean value is returned."
   ]
  },
  {
   "cell_type": "code",
   "execution_count": null,
   "id": "3fca1e71",
   "metadata": {
    "slideshow": {
     "slide_type": "fragment"
    }
   },
   "outputs": [],
   "source": [
    "string_variable = 'All work and no play, makes Jack a dull boy.'"
   ]
  },
  {
   "cell_type": "markdown",
   "id": "75bc8e10",
   "metadata": {
    "slideshow": {
     "slide_type": "slide"
    }
   },
   "source": [
    "### Boolean variables\n",
    "In Python we are able to check if values are **True** or **False**.  When a comparison is made between two expressions a boolean variable is returned."
   ]
  },
  {
   "cell_type": "code",
   "execution_count": null,
   "id": "e25f0cb4",
   "metadata": {
    "slideshow": {
     "slide_type": "fragment"
    }
   },
   "outputs": [],
   "source": [
    "1 < 2"
   ]
  },
  {
   "cell_type": "code",
   "execution_count": null,
   "id": "26f6b8d3",
   "metadata": {
    "slideshow": {
     "slide_type": "fragment"
    }
   },
   "outputs": [],
   "source": [
    "1 == 2"
   ]
  },
  {
   "cell_type": "markdown",
   "id": "c1d7658c",
   "metadata": {
    "slideshow": {
     "slide_type": "slide"
    }
   },
   "source": [
    "These are used in **if statements** for code logic."
   ]
  },
  {
   "cell_type": "code",
   "execution_count": null,
   "id": "c67cde5d",
   "metadata": {
    "slideshow": {
     "slide_type": "fragment"
    }
   },
   "outputs": [],
   "source": [
    "if 1 < 2:\n",
    "    print('1 is less than 2')"
   ]
  },
  {
   "cell_type": "markdown",
   "id": "650fb2d4",
   "metadata": {
    "slideshow": {
     "slide_type": "slide"
    }
   },
   "source": [
    "All variables and data types in Python have a True or False value.\n",
    "\n",
    "Almost all data types with **content** are True, whereas empty data type are mostly False."
   ]
  },
  {
   "cell_type": "code",
   "execution_count": 1,
   "id": "6c511dae",
   "metadata": {
    "slideshow": {
     "slide_type": "fragment"
    }
   },
   "outputs": [],
   "source": [
    "list_name = [1, 2, 3]"
   ]
  },
  {
   "cell_type": "code",
   "execution_count": null,
   "id": "e30252c6",
   "metadata": {
    "slideshow": {
     "slide_type": "fragment"
    }
   },
   "outputs": [],
   "source": [
    "empty_list = []"
   ]
  },
  {
   "cell_type": "markdown",
   "id": "e8ccca12",
   "metadata": {
    "slideshow": {
     "slide_type": "fragment"
    }
   },
   "source": [
    "#### Functions return boolean values\n",
    "Many functions return bool values. **Isinstance()** checks the variable type and returns a boolean."
   ]
  },
  {
   "cell_type": "code",
   "execution_count": null,
   "id": "1128e67a",
   "metadata": {
    "slideshow": {
     "slide_type": "fragment"
    }
   },
   "outputs": [],
   "source": [
    "string_variable = 'All work and no play, makes Jack a dull boy'"
   ]
  }
 ],
 "metadata": {
  "celltoolbar": "Slideshow",
  "kernelspec": {
   "display_name": "Python 3 (ipykernel)",
   "language": "python",
   "name": "python3"
  },
  "language_info": {
   "codemirror_mode": {
    "name": "ipython",
    "version": 3
   },
   "file_extension": ".py",
   "mimetype": "text/x-python",
   "name": "python",
   "nbconvert_exporter": "python",
   "pygments_lexer": "ipython3",
   "version": "3.10.6"
  }
 },
 "nbformat": 4,
 "nbformat_minor": 5
}
