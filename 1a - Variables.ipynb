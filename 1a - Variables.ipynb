{
 "cells": [
  {
   "cell_type": "markdown",
   "id": "f3b56d6f",
   "metadata": {},
   "source": [
    "### Data Types: Variables\n",
    "* Variables are containers for storing data values.\n",
    "\n",
    "\n",
    "* In python a variable is defined when a value is assigned to it.\n",
    "\n",
    "\n",
    "* Python has many variable types, we will consider the following:\n",
    "\n",
    "    * Integers (*eg*. 1)\n",
    "    \n",
    "    * Floats (*eg*. 1.2)\n",
    "    \n",
    "    * Strings (*eg*. 'Dog')\n",
    "    \n",
    "    * Boolean (*eg*. True)"
   ]
  },
  {
   "cell_type": "markdown",
   "id": "cb3432bd",
   "metadata": {},
   "source": [
    "### Casting\n",
    "One variable type can be converted to another by using a process called **casting**."
   ]
  },
  {
   "cell_type": "code",
   "execution_count": 1,
   "id": "fed73a4c",
   "metadata": {},
   "outputs": [
    {
     "name": "stdout",
     "output_type": "stream",
     "text": [
      "1 <class 'int'>\n"
     ]
    }
   ],
   "source": [
    "variable = 1\n",
    "\n",
    "print(variable, type(variable))"
   ]
  },
  {
   "cell_type": "code",
   "execution_count": 2,
   "id": "4ac6fd3e",
   "metadata": {},
   "outputs": [
    {
     "name": "stdout",
     "output_type": "stream",
     "text": [
      "1.0 <class 'float'>\n"
     ]
    }
   ],
   "source": [
    "variable = float(variable)\n",
    "\n",
    "print(variable, type(variable))"
   ]
  },
  {
   "cell_type": "code",
   "execution_count": 3,
   "id": "c120e952",
   "metadata": {},
   "outputs": [
    {
     "name": "stdout",
     "output_type": "stream",
     "text": [
      "1.0 <class 'str'>\n"
     ]
    }
   ],
   "source": [
    "variable = str(variable)\n",
    "\n",
    "print(variable, type(variable))"
   ]
  },
  {
   "cell_type": "markdown",
   "id": "e91a8734",
   "metadata": {},
   "source": [
    "### Things to remember about variables\n",
    "Variable and their names have particular rules in Python."
   ]
  },
  {
   "cell_type": "code",
   "execution_count": 3,
   "id": "a06c3f77",
   "metadata": {},
   "outputs": [
    {
     "name": "stdout",
     "output_type": "stream",
     "text": [
      "10 100\n"
     ]
    }
   ],
   "source": [
    "# Variable names are care sensitive, upper case letters are only used in some cases by convention.\n",
    "\n",
    "b = 10\n",
    "\n",
    "B = 100\n",
    "\n",
    "print(x, X)"
   ]
  },
  {
   "cell_type": "code",
   "execution_count": 4,
   "id": "fabfb2d9",
   "metadata": {},
   "outputs": [
    {
     "ename": "SyntaxError",
     "evalue": "invalid decimal literal (4203259994.py, line 3)",
     "output_type": "error",
     "traceback": [
      "\u001b[1;36m  Input \u001b[1;32mIn [4]\u001b[1;36m\u001b[0m\n\u001b[1;33m    1variable = 10\u001b[0m\n\u001b[1;37m    ^\u001b[0m\n\u001b[1;31mSyntaxError\u001b[0m\u001b[1;31m:\u001b[0m invalid decimal literal\n"
     ]
    }
   ],
   "source": [
    "# Variable names cannot, start with numbers, have spaces or hyphens. Running the following will create an error.\n",
    "\n",
    "1variable = 10\n",
    "\n",
    "one-variable = 10\n",
    "\n",
    "one variable = 10"
   ]
  },
  {
   "cell_type": "markdown",
   "id": "0e20a45a",
   "metadata": {},
   "source": [
    "### Using different \"cases\" in Python\n",
    "There is a **case convention** when coding in Python."
   ]
  },
  {
   "cell_type": "markdown",
   "id": "5a3f569e",
   "metadata": {},
   "source": [
    "* **Camel Case** is used for the names of functions"
   ]
  },
  {
   "cell_type": "code",
   "execution_count": null,
   "id": "4eebe282",
   "metadata": {},
   "outputs": [],
   "source": [
    "def newFunction(x):\n",
    "    return x"
   ]
  },
  {
   "cell_type": "markdown",
   "id": "2e7f6d42",
   "metadata": {},
   "source": [
    "* **Pascal Case** is used for classes"
   ]
  },
  {
   "cell_type": "code",
   "execution_count": null,
   "id": "14e26c84",
   "metadata": {},
   "outputs": [],
   "source": [
    "class NewClass:\n",
    "    pass"
   ]
  },
  {
   "cell_type": "markdown",
   "id": "4cab22a1",
   "metadata": {},
   "source": [
    "* **Snake Case** is used for variables"
   ]
  },
  {
   "cell_type": "code",
   "execution_count": null,
   "id": "c59e3ff3",
   "metadata": {},
   "outputs": [],
   "source": [
    "new_variable_name = 100"
   ]
  },
  {
   "cell_type": "markdown",
   "id": "62094d99",
   "metadata": {},
   "source": [
    "### Multiple variables\n",
    "Python enables the user to assign mutliple variable in one line of code."
   ]
  },
  {
   "cell_type": "code",
   "execution_count": null,
   "id": "ce1cc795",
   "metadata": {},
   "outputs": [],
   "source": [
    "a, b, c = 'Dog', 'Cat', 'Bird'\n",
    "\n",
    "print(a, b, c)"
   ]
  },
  {
   "cell_type": "markdown",
   "id": "8c2748d1",
   "metadata": {},
   "source": [
    "Or set multiple variables to the same value."
   ]
  },
  {
   "cell_type": "code",
   "execution_count": null,
   "id": "da6d94ae",
   "metadata": {},
   "outputs": [],
   "source": [
    "a = b = c = 'Dog'\n",
    "\n",
    "print(a, b, c)"
   ]
  },
  {
   "cell_type": "markdown",
   "id": "14098e66",
   "metadata": {},
   "source": [
    "Multiple variables can be **unpacked** from **iterables** such as lists or tuples."
   ]
  },
  {
   "cell_type": "code",
   "execution_count": null,
   "id": "ebee2293",
   "metadata": {},
   "outputs": [],
   "source": [
    "a, b, c = ('Dog', 'Cat', 'Bird')\n",
    "\n",
    "print(a, b, c)"
   ]
  },
  {
   "cell_type": "markdown",
   "id": "4220d4b4",
   "metadata": {},
   "source": [
    "### Strings\n",
    "Strings are used to store text in Python."
   ]
  },
  {
   "cell_type": "markdown",
   "id": "6f761886",
   "metadata": {},
   "source": [
    "* Both single and double quotes can be used in python"
   ]
  },
  {
   "cell_type": "code",
   "execution_count": null,
   "id": "e0358787",
   "metadata": {},
   "outputs": [],
   "source": [
    "string_variable = 'Dog'\n",
    "\n",
    "string_variable = \"Dog\""
   ]
  },
  {
   "cell_type": "markdown",
   "id": "8b5a1974",
   "metadata": {},
   "source": [
    "* Strings can use multiple lines by enclosing them in 3 quotes (*single or double*)"
   ]
  },
  {
   "cell_type": "code",
   "execution_count": null,
   "id": "abed585e",
   "metadata": {},
   "outputs": [],
   "source": [
    "string_variable = \"\"\"\n",
    "    All work and no play\n",
    "    makes Jack a\n",
    "    dull boy.\n",
    "\"\"\"\n",
    "\n",
    "print(string_variable)"
   ]
  },
  {
   "cell_type": "markdown",
   "id": "a54243ba",
   "metadata": {},
   "source": [
    "### Strings can be accessed like lists / arrays\n",
    "Individual characters of a string can be accessed by using an index in square brackets. Negative values can be used to access characters from the end."
   ]
  },
  {
   "cell_type": "code",
   "execution_count": null,
   "id": "71d333ba",
   "metadata": {},
   "outputs": [],
   "source": [
    "string_variable = 'All work and no play, makes Jack a dull boy.'\n",
    "\n",
    "char = string_variable[1]\n",
    "\n",
    "print(char)"
   ]
  },
  {
   "cell_type": "markdown",
   "id": "bda46ee2",
   "metadata": {},
   "source": [
    "This method can be used with a colon within the square brackets to **slice** and return a section of the string."
   ]
  },
  {
   "cell_type": "code",
   "execution_count": null,
   "id": "54c3c2ee",
   "metadata": {},
   "outputs": [],
   "source": [
    "string_variable = 'All work and no play, makes Jack a dull boy.'\n",
    "\n",
    "slice_ = string_variable[13:20]\n",
    "\n",
    "print(slice_)"
   ]
  },
  {
   "cell_type": "markdown",
   "id": "0b656553",
   "metadata": {},
   "source": [
    "### Return the length of a string\n",
    "A string's length can be returned by the **len()** function."
   ]
  },
  {
   "cell_type": "code",
   "execution_count": null,
   "id": "e29d3c5b",
   "metadata": {},
   "outputs": [],
   "source": [
    "string_variable = 'All work and no play, makes Jack a dull boy.'\n",
    "\n",
    "length = len(string_variable)\n",
    "\n",
    "print(length)"
   ]
  },
  {
   "cell_type": "markdown",
   "id": "e83007a9",
   "metadata": {},
   "source": [
    "### Search for a substring in a string\n",
    "A pattern of characters within a string can be found using **in** and **not in**."
   ]
  },
  {
   "cell_type": "code",
   "execution_count": null,
   "id": "a302e6f2",
   "metadata": {},
   "outputs": [],
   "source": [
    "string_variable = 'All work and no play, makes Jack a dull boy.'\n",
    "\n",
    "print('All' in string_variable)\n",
    "\n",
    "print('Cat' in string_variable)"
   ]
  },
  {
   "cell_type": "markdown",
   "id": "c331379a",
   "metadata": {},
   "source": [
    "### Replace characters in a string\n",
    "The **replace()** method can be used to swap specific characters for alternate ones.  In the example all spaces are replaced with an underscore."
   ]
  },
  {
   "cell_type": "code",
   "execution_count": 5,
   "id": "53af4a86",
   "metadata": {},
   "outputs": [
    {
     "name": "stdout",
     "output_type": "stream",
     "text": [
      "All_work_and_no_play,_makes_Jack_a_dull_boy.\n"
     ]
    }
   ],
   "source": [
    "string_variable = 'All work and no play, makes Jack a dull boy.'\n",
    "\n",
    "string_variable = string_variable.replace(' ', '_')\n",
    "\n",
    "print(string_variable)"
   ]
  },
  {
   "cell_type": "markdown",
   "id": "328797da",
   "metadata": {},
   "source": [
    "### Remove white space\n",
    "All the empty spaces (*white space*) can be removed from the start and end of strings using the built in **strip()** method.\n",
    "In this example the **escape characters** *\\n* and *\\t* for new line and tab space respectively to demonstrate these too are removed."
   ]
  },
  {
   "cell_type": "code",
   "execution_count": null,
   "id": "1d480d89",
   "metadata": {},
   "outputs": [],
   "source": [
    "string_variable = '\\n\\t   All work and no play, makes Jack a dull boy.   \\t\\n'\n",
    "\n",
    "print(string_variable)\n",
    "\n",
    "no_white_space = string_variable.strip()\n",
    "\n",
    "print(no_white_space)"
   ]
  },
  {
   "cell_type": "markdown",
   "id": "68602b2f",
   "metadata": {},
   "source": [
    "### Change character cases with upper, lower, capitalized & title methods\n",
    "Using the built in methods **upper()**, **lower()**, **capitalize()** and **title()** the cases of the characters can be changed."
   ]
  },
  {
   "cell_type": "code",
   "execution_count": null,
   "id": "c2e943e4",
   "metadata": {},
   "outputs": [],
   "source": [
    "string_variable = 'All work and no play, makes Jack a dull boy.'\n",
    "\n",
    "print(string_variable.upper())\n",
    "\n",
    "print(string_variable.lower())\n",
    "\n",
    "print(string_variable.capitalize())\n",
    "\n",
    "print(string_variable.title())"
   ]
  },
  {
   "cell_type": "markdown",
   "id": "1b77e520",
   "metadata": {},
   "source": [
    "### Convert strings into lists using split\n",
    "Strings can be converted into lists by using the method **split()** and designating a character to split on.  In this example the string is split on the space."
   ]
  },
  {
   "cell_type": "code",
   "execution_count": null,
   "id": "174440ce",
   "metadata": {},
   "outputs": [],
   "source": [
    "string_variable = 'All work and no play, makes Jack a dull boy.'\n",
    "\n",
    "split = string_variable.split(' ')\n",
    "\n",
    "print(split, type(split))"
   ]
  },
  {
   "cell_type": "markdown",
   "id": "b25a2372",
   "metadata": {},
   "source": [
    "Inversely **join()** can be used to create strings for lists"
   ]
  },
  {
   "cell_type": "code",
   "execution_count": null,
   "id": "6dbac500",
   "metadata": {},
   "outputs": [],
   "source": [
    "string_variable = ' '.join(split)\n",
    "\n",
    "print(string_variable, type(string_variable))"
   ]
  },
  {
   "cell_type": "markdown",
   "id": "621dba95",
   "metadata": {},
   "source": [
    "### Concatenation of string\n",
    "Strings can be concatenated (*to connect or link in a series or chain*) using the **+** symbol."
   ]
  },
  {
   "cell_type": "code",
   "execution_count": null,
   "id": "1f3d6b23",
   "metadata": {},
   "outputs": [],
   "source": [
    "string_a = 'All work and '\n",
    "\n",
    "string_b = 'no play'\n",
    "\n",
    "string_c = string_a + string_b\n",
    "\n",
    "print(string_c)"
   ]
  },
  {
   "cell_type": "markdown",
   "id": "2255edc4",
   "metadata": {},
   "source": [
    "### 'F' - strings\n",
    "As of Python 3.6 'F' strings (*or formatted strings*) can be used to insert other variables into a string.\n",
    "In the example note the 'f' character infront of the first quotation mark."
   ]
  },
  {
   "cell_type": "code",
   "execution_count": null,
   "id": "d62b6d7c",
   "metadata": {},
   "outputs": [],
   "source": [
    "number = 38\n",
    "\n",
    "name = 'Jack'\n",
    "\n",
    "string = f'Hello {name}, you have {number} new messages!'\n",
    "\n",
    "print(string)\n"
   ]
  },
  {
   "cell_type": "markdown",
   "id": "f2085875",
   "metadata": {},
   "source": [
    "### Formatting numerical strings\n",
    "Number string can be modified to help readability."
   ]
  },
  {
   "cell_type": "code",
   "execution_count": null,
   "id": "d9a0fe4d",
   "metadata": {},
   "outputs": [],
   "source": [
    "# Tip: put underscores in large numbers for code readability\n",
    "integer = 12_237_423_564\n",
    "\n",
    "print(integer, type(integer))\n",
    "\n",
    "number_string = f'{integer:,}'\n",
    "\n",
    "print(number_string)\n"
   ]
  },
  {
   "cell_type": "markdown",
   "id": "b7265f31",
   "metadata": {},
   "source": [
    "### Startswith and Endswith\n",
    "The built in methods **startswith()** and **endswith()** are able to check if the submitted characters appear at the start or end of the string. A boolean value is returned."
   ]
  },
  {
   "cell_type": "code",
   "execution_count": 1,
   "id": "3fca1e71",
   "metadata": {},
   "outputs": [
    {
     "name": "stdout",
     "output_type": "stream",
     "text": [
      "True\n",
      "True\n"
     ]
    }
   ],
   "source": [
    "string_variable = 'All work and no play, makes Jack a dull boy.'\n",
    "\n",
    "print(string_variable.startswith('All'))\n",
    "\n",
    "print(string_variable.endswith('boy.'))\n"
   ]
  },
  {
   "cell_type": "markdown",
   "id": "056d9343",
   "metadata": {},
   "source": [
    "### Boolean variables\n",
    "In Python we are able to check if values are **True** or **False**.  When a comparison is made between two expressions a boolean variable is returned."
   ]
  },
  {
   "cell_type": "code",
   "execution_count": 2,
   "id": "7bb20430",
   "metadata": {},
   "outputs": [
    {
     "data": {
      "text/plain": [
       "True"
      ]
     },
     "execution_count": 2,
     "metadata": {},
     "output_type": "execute_result"
    }
   ],
   "source": [
    "1 < 2"
   ]
  },
  {
   "cell_type": "code",
   "execution_count": 3,
   "id": "2dcd7d57",
   "metadata": {},
   "outputs": [
    {
     "data": {
      "text/plain": [
       "False"
      ]
     },
     "execution_count": 3,
     "metadata": {},
     "output_type": "execute_result"
    }
   ],
   "source": [
    "1 == 2"
   ]
  },
  {
   "cell_type": "markdown",
   "id": "46c320c1",
   "metadata": {},
   "source": [
    "These are used in **if statements** for code logic."
   ]
  },
  {
   "cell_type": "code",
   "execution_count": 4,
   "id": "b656cbef",
   "metadata": {},
   "outputs": [
    {
     "name": "stdout",
     "output_type": "stream",
     "text": [
      "1 is less than 2\n"
     ]
    }
   ],
   "source": [
    "if 1 < 2:\n",
    "    print('1 is less than 2')"
   ]
  },
  {
   "cell_type": "markdown",
   "id": "4d36d56b",
   "metadata": {},
   "source": [
    "All variables and data types in Python have a True or False value.\n",
    "\n",
    "Almost all data types with **content** are True, whereas empty data type are mostly False."
   ]
  },
  {
   "cell_type": "code",
   "execution_count": 5,
   "id": "5ef5bb86",
   "metadata": {},
   "outputs": [
    {
     "name": "stdout",
     "output_type": "stream",
     "text": [
      "True\n"
     ]
    }
   ],
   "source": [
    "list_name = [1, 2, 3]\n",
    "\n",
    "print(bool(list_name))"
   ]
  },
  {
   "cell_type": "code",
   "execution_count": 6,
   "id": "76ddc44d",
   "metadata": {},
   "outputs": [
    {
     "name": "stdout",
     "output_type": "stream",
     "text": [
      "False\n"
     ]
    }
   ],
   "source": [
    "empty_list = []\n",
    "\n",
    "print(bool(empty_list))"
   ]
  },
  {
   "cell_type": "markdown",
   "id": "dac06c3d",
   "metadata": {},
   "source": [
    "#### Functions return boolean values\n",
    "Many functions return bool values. **Isinstance()** checks the variable type and returns a boolean."
   ]
  },
  {
   "cell_type": "code",
   "execution_count": 7,
   "id": "1d874c9b",
   "metadata": {},
   "outputs": [
    {
     "name": "stdout",
     "output_type": "stream",
     "text": [
      "True\n"
     ]
    }
   ],
   "source": [
    "string_variable = 'All work and no play, makes Jack a dull boy'\n",
    "\n",
    "print(isinstance(string_variable, str))"
   ]
  },
  {
   "cell_type": "code",
   "execution_count": null,
   "id": "ea6afff7",
   "metadata": {},
   "outputs": [],
   "source": []
  }
 ],
 "metadata": {
  "kernelspec": {
   "display_name": "Python 3 (ipykernel)",
   "language": "python",
   "name": "python3"
  },
  "language_info": {
   "codemirror_mode": {
    "name": "ipython",
    "version": 3
   },
   "file_extension": ".py",
   "mimetype": "text/x-python",
   "name": "python",
   "nbconvert_exporter": "python",
   "pygments_lexer": "ipython3",
   "version": "3.10.6"
  }
 },
 "nbformat": 4,
 "nbformat_minor": 5
}
