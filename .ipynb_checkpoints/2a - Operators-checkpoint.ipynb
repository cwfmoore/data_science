{
 "cells": [
  {
   "cell_type": "markdown",
   "id": "3ef9fde3",
   "metadata": {},
   "source": [
    "### Operators in Python\n",
    "\n",
    "In Python operators are used to perform operations on variables."
   ]
  },
  {
   "cell_type": "markdown",
   "id": "9ecbbe51",
   "metadata": {},
   "source": [
    "Mathematical operators\n",
    "\n",
    "There are 7 mathematical operators in Python each with distinct functions.\n",
    "\n",
    "    * Addition        +\n",
    "    * Subtraction     -\n",
    "    * Multiplication  *\n",
    "    * Division        /\n",
    "    * Modulus         %\n",
    "    * Exponential     **\n",
    "    * Floor division  //"
   ]
  },
  {
   "cell_type": "markdown",
   "id": "dcb73746",
   "metadata": {},
   "source": [
    "Modulus returns the remainder after the division of two values:"
   ]
  },
  {
   "cell_type": "code",
   "execution_count": 15,
   "id": "0b458884",
   "metadata": {},
   "outputs": [
    {
     "name": "stdout",
     "output_type": "stream",
     "text": [
      "1\n"
     ]
    }
   ],
   "source": [
    "print(10 % 3)"
   ]
  },
  {
   "cell_type": "markdown",
   "id": "bc3aa1ba",
   "metadata": {},
   "source": [
    "Exponential (*or to the power of*) raises a value to the power of another value:"
   ]
  },
  {
   "cell_type": "code",
   "execution_count": 16,
   "id": "c9727c98",
   "metadata": {},
   "outputs": [
    {
     "name": "stdout",
     "output_type": "stream",
     "text": [
      "4\n"
     ]
    }
   ],
   "source": [
    "print(2 ** 2)"
   ]
  },
  {
   "cell_type": "markdown",
   "id": "d6e5b45c",
   "metadata": {},
   "source": [
    "Floor division divides two numbers and rounds down to the nearest whole number:"
   ]
  },
  {
   "cell_type": "code",
   "execution_count": 17,
   "id": "a88eedaa",
   "metadata": {},
   "outputs": [
    {
     "name": "stdout",
     "output_type": "stream",
     "text": [
      "2\n"
     ]
    }
   ],
   "source": [
    "print(15 // 7)"
   ]
  },
  {
   "cell_type": "code",
   "execution_count": 18,
   "id": "2a5f49fa",
   "metadata": {},
   "outputs": [
    {
     "data": {
      "text/plain": [
       "3"
      ]
     },
     "execution_count": 18,
     "metadata": {},
     "output_type": "execute_result"
    }
   ],
   "source": [
    "1 | 2"
   ]
  },
  {
   "cell_type": "markdown",
   "id": "d9f364de",
   "metadata": {},
   "source": [
    "### Assignment operators\n",
    "The mathematical operators can be used in conjunction with an equals sign to create an assignment operator."
   ]
  },
  {
   "cell_type": "code",
   "execution_count": 25,
   "id": "64083de1",
   "metadata": {},
   "outputs": [
    {
     "name": "stdout",
     "output_type": "stream",
     "text": [
      "3\n"
     ]
    }
   ],
   "source": [
    "x = 1\n",
    "\n",
    "# This statment:\n",
    "x = x + 1\n",
    "\n",
    "# Is the same as:\n",
    "x += 1\n",
    "\n",
    "print(x)"
   ]
  },
  {
   "cell_type": "markdown",
   "id": "bab0cb3e",
   "metadata": {},
   "source": [
    "### Comparison operators\n",
    "Python has six comparison operator for use in conditional statements."
   ]
  },
  {
   "cell_type": "markdown",
   "id": "b43aac39",
   "metadata": {},
   "source": [
    "    * Equals                    ==\n",
    "    * Not equal                 !=\n",
    "    * Greater than              >\n",
    "    * Less than                 <\n",
    "    * Greater than or equal to  >=\n",
    "    * Less than or equal to     <="
   ]
  },
  {
   "cell_type": "code",
   "execution_count": 26,
   "id": "95089bde",
   "metadata": {},
   "outputs": [
    {
     "name": "stdout",
     "output_type": "stream",
     "text": [
      "10 is greater than or equal to 5\n"
     ]
    }
   ],
   "source": [
    "if 10 >= 5:\n",
    "    print('10 is greater than or equal to 5')"
   ]
  },
  {
   "cell_type": "markdown",
   "id": "8b6b3ee2",
   "metadata": {},
   "source": [
    "### Logical operators\n",
    "Logical operators are used to **combine** conditional statements.\n",
    "\n",
    "    * and\n",
    "    * or\n",
    "    * not"
   ]
  },
  {
   "cell_type": "code",
   "execution_count": 30,
   "id": "ddd50590",
   "metadata": {},
   "outputs": [
    {
     "name": "stdout",
     "output_type": "stream",
     "text": [
      "10 is greater then or equal to 5 and 10 does not equal 5\n"
     ]
    }
   ],
   "source": [
    "if 10 >= 5 and 10 != 5:\n",
    "    print('10 is greater then or equal to 5 and 10 does not equal 5')"
   ]
  }
 ],
 "metadata": {
  "kernelspec": {
   "display_name": "Python 3 (ipykernel)",
   "language": "python",
   "name": "python3"
  },
  "language_info": {
   "codemirror_mode": {
    "name": "ipython",
    "version": 3
   },
   "file_extension": ".py",
   "mimetype": "text/x-python",
   "name": "python",
   "nbconvert_exporter": "python",
   "pygments_lexer": "ipython3",
   "version": "3.10.6"
  }
 },
 "nbformat": 4,
 "nbformat_minor": 5
}
