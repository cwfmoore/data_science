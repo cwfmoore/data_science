{
  "metadata": {
    "language_info": {
      "codemirror_mode": {
        "name": "python",
        "version": 3
      },
      "file_extension": ".py",
      "mimetype": "text/x-python",
      "name": "python",
      "nbconvert_exporter": "python",
      "pygments_lexer": "ipython3",
      "version": "3.8"
    },
    "kernelspec": {
      "name": "python",
      "display_name": "Python (Pyodide)",
      "language": "python"
    }
  },
  "nbformat_minor": 4,
  "nbformat": 4,
  "cells": [
    {
      "cell_type": "markdown",
      "source": "## Data types",
      "metadata": {}
    },
    {
      "cell_type": "markdown",
      "source": "#### Data types that store variables\n\nLists, Tuples, Sets & Dictionaries\n",
      "metadata": {}
    },
    {
      "cell_type": "markdown",
      "source": "#### Variables\n\nStrings, Integers, Floats & Booleans",
      "metadata": {}
    },
    {
      "cell_type": "markdown",
      "source": "#### Dictionaries\n\nDictionaries are very versaitle methods of storing variables.\nThe operate by like this:\n\n#### {KEY: VALUE}\n\nMultiple *\"key, value pairs\"* can be added to the dictionary by separating them by commas:\n\n#### {KEY1: VALUE1, KEY2: VALUE2}\n",
      "metadata": {}
    },
    {
      "cell_type": "markdown",
      "source": "#### Example: Creating and accessing a dictionary",
      "metadata": {}
    },
    {
      "cell_type": "code",
      "source": "person_dict = {'name': 'Craig', 'age': 41, 'location': 'Scotland'}",
      "metadata": {
        "trusted": true
      },
      "execution_count": 1,
      "outputs": []
    },
    {
      "cell_type": "code",
      "source": "print(person_dict['age'])",
      "metadata": {
        "trusted": true
      },
      "execution_count": 3,
      "outputs": [
        {
          "name": "stdout",
          "text": "41\n",
          "output_type": "stream"
        }
      ]
    },
    {
      "cell_type": "markdown",
      "source": "#### Iterating a dictionary",
      "metadata": {}
    },
    {
      "cell_type": "code",
      "source": "for k, v in person_dict.items():\n    print(k, v)",
      "metadata": {
        "trusted": true
      },
      "execution_count": 8,
      "outputs": [
        {
          "name": "stdout",
          "text": "name Craig\nage 41\nlocation Scotland\n",
          "output_type": "stream"
        }
      ]
    },
    {
      "cell_type": "markdown",
      "source": "#### Line comprehension",
      "metadata": {}
    },
    {
      "cell_type": "code",
      "source": "new_dict = {'one': 1, 'two': 2, 'three': 3, 'four': 4}",
      "metadata": {
        "trusted": true
      },
      "execution_count": 9,
      "outputs": []
    },
    {
      "cell_type": "code",
      "source": "print(new_dict)",
      "metadata": {
        "trusted": true
      },
      "execution_count": 10,
      "outputs": [
        {
          "name": "stdout",
          "text": "{'one': 1, 'two': 2, 'three': 3, 'four': 4}\n",
          "output_type": "stream"
        }
      ]
    },
    {
      "cell_type": "code",
      "source": "def divideBy3(x):\n    x = x / 3\n    return x",
      "metadata": {
        "trusted": true
      },
      "execution_count": 15,
      "outputs": []
    },
    {
      "cell_type": "code",
      "source": "new_dict = {k: divideBy3(v) for k, v in new_dict.items()}",
      "metadata": {
        "trusted": true
      },
      "execution_count": 16,
      "outputs": []
    },
    {
      "cell_type": "code",
      "source": "print(new_dict)",
      "metadata": {
        "trusted": true
      },
      "execution_count": 17,
      "outputs": [
        {
          "name": "stdout",
          "text": "{'one': 0.6666666666666666, 'two': 1.3333333333333333, 'three': 2.0, 'four': 2.6666666666666665}\n",
          "output_type": "stream"
        }
      ]
    },
    {
      "cell_type": "code",
      "source": "",
      "metadata": {},
      "execution_count": null,
      "outputs": []
    }
  ]
}